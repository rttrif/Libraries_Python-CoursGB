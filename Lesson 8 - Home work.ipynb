{
 "cells": [
  {
   "cell_type": "markdown",
   "metadata": {},
   "source": [
    "# Обучение без учителя"
   ]
  },
  {
   "cell_type": "markdown",
   "metadata": {},
   "source": [
    "### Задание 1"
   ]
  },
  {
   "cell_type": "markdown",
   "metadata": {},
   "source": [
    "- Импортируйте библиотеки pandas, numpy и matplotlib.\n",
    "\n",
    "- Загрузите \"Boston House Prices dataset\" из встроенных наборов данных библиотеки sklearn.\n",
    "\n",
    "- Создайте датафреймы X и y из этих данных.\n",
    "- Разбейте эти датафреймы на тренировочные (X_train, y_train) и тестовые (X_test, y_test) с помощью функции train_test_split так, чтобы размер тестовой выборки составлял 20% от всех данных, при этом аргумент random_state должен быть равен 42.\n",
    "- Масштабируйте данные с помощью StandardScaler.\n",
    "\n",
    "- Постройте модель t-SNE на тренировочный данных с параметрами: n_components=2, learning_rate=250, random_state=42.\n",
    "\n",
    "- Постройте диаграмму рассеяния на этих данных."
   ]
  },
  {
   "cell_type": "code",
   "execution_count": 43,
   "metadata": {},
   "outputs": [],
   "source": [
    "# Импортируйте библиотеки pandas, numpy и matplotlib\n",
    "import pandas as pd\n",
    "import numpy as np\n",
    "from matplotlib import pyplot as plt \n",
    "%matplotlib inline \n",
    "plt.style.use('fivethirtyeight')"
   ]
  },
  {
   "cell_type": "code",
   "execution_count": 5,
   "metadata": {},
   "outputs": [],
   "source": [
    "# Загрузите \"Boston House Prices dataset\" из встроенных наборов данных библиотеки sklearn.\n",
    "from sklearn.datasets import load_boston"
   ]
  },
  {
   "cell_type": "code",
   "execution_count": 14,
   "metadata": {},
   "outputs": [
    {
     "data": {
      "text/plain": [
       "{'data': array([[6.3200e-03, 1.8000e+01, 2.3100e+00, ..., 1.5300e+01, 3.9690e+02,\n",
       "         4.9800e+00],\n",
       "        [2.7310e-02, 0.0000e+00, 7.0700e+00, ..., 1.7800e+01, 3.9690e+02,\n",
       "         9.1400e+00],\n",
       "        [2.7290e-02, 0.0000e+00, 7.0700e+00, ..., 1.7800e+01, 3.9283e+02,\n",
       "         4.0300e+00],\n",
       "        ...,\n",
       "        [6.0760e-02, 0.0000e+00, 1.1930e+01, ..., 2.1000e+01, 3.9690e+02,\n",
       "         5.6400e+00],\n",
       "        [1.0959e-01, 0.0000e+00, 1.1930e+01, ..., 2.1000e+01, 3.9345e+02,\n",
       "         6.4800e+00],\n",
       "        [4.7410e-02, 0.0000e+00, 1.1930e+01, ..., 2.1000e+01, 3.9690e+02,\n",
       "         7.8800e+00]]),\n",
       " 'target': array([24. , 21.6, 34.7, 33.4, 36.2, 28.7, 22.9, 27.1, 16.5, 18.9, 15. ,\n",
       "        18.9, 21.7, 20.4, 18.2, 19.9, 23.1, 17.5, 20.2, 18.2, 13.6, 19.6,\n",
       "        15.2, 14.5, 15.6, 13.9, 16.6, 14.8, 18.4, 21. , 12.7, 14.5, 13.2,\n",
       "        13.1, 13.5, 18.9, 20. , 21. , 24.7, 30.8, 34.9, 26.6, 25.3, 24.7,\n",
       "        21.2, 19.3, 20. , 16.6, 14.4, 19.4, 19.7, 20.5, 25. , 23.4, 18.9,\n",
       "        35.4, 24.7, 31.6, 23.3, 19.6, 18.7, 16. , 22.2, 25. , 33. , 23.5,\n",
       "        19.4, 22. , 17.4, 20.9, 24.2, 21.7, 22.8, 23.4, 24.1, 21.4, 20. ,\n",
       "        20.8, 21.2, 20.3, 28. , 23.9, 24.8, 22.9, 23.9, 26.6, 22.5, 22.2,\n",
       "        23.6, 28.7, 22.6, 22. , 22.9, 25. , 20.6, 28.4, 21.4, 38.7, 43.8,\n",
       "        33.2, 27.5, 26.5, 18.6, 19.3, 20.1, 19.5, 19.5, 20.4, 19.8, 19.4,\n",
       "        21.7, 22.8, 18.8, 18.7, 18.5, 18.3, 21.2, 19.2, 20.4, 19.3, 22. ,\n",
       "        20.3, 20.5, 17.3, 18.8, 21.4, 15.7, 16.2, 18. , 14.3, 19.2, 19.6,\n",
       "        23. , 18.4, 15.6, 18.1, 17.4, 17.1, 13.3, 17.8, 14. , 14.4, 13.4,\n",
       "        15.6, 11.8, 13.8, 15.6, 14.6, 17.8, 15.4, 21.5, 19.6, 15.3, 19.4,\n",
       "        17. , 15.6, 13.1, 41.3, 24.3, 23.3, 27. , 50. , 50. , 50. , 22.7,\n",
       "        25. , 50. , 23.8, 23.8, 22.3, 17.4, 19.1, 23.1, 23.6, 22.6, 29.4,\n",
       "        23.2, 24.6, 29.9, 37.2, 39.8, 36.2, 37.9, 32.5, 26.4, 29.6, 50. ,\n",
       "        32. , 29.8, 34.9, 37. , 30.5, 36.4, 31.1, 29.1, 50. , 33.3, 30.3,\n",
       "        34.6, 34.9, 32.9, 24.1, 42.3, 48.5, 50. , 22.6, 24.4, 22.5, 24.4,\n",
       "        20. , 21.7, 19.3, 22.4, 28.1, 23.7, 25. , 23.3, 28.7, 21.5, 23. ,\n",
       "        26.7, 21.7, 27.5, 30.1, 44.8, 50. , 37.6, 31.6, 46.7, 31.5, 24.3,\n",
       "        31.7, 41.7, 48.3, 29. , 24. , 25.1, 31.5, 23.7, 23.3, 22. , 20.1,\n",
       "        22.2, 23.7, 17.6, 18.5, 24.3, 20.5, 24.5, 26.2, 24.4, 24.8, 29.6,\n",
       "        42.8, 21.9, 20.9, 44. , 50. , 36. , 30.1, 33.8, 43.1, 48.8, 31. ,\n",
       "        36.5, 22.8, 30.7, 50. , 43.5, 20.7, 21.1, 25.2, 24.4, 35.2, 32.4,\n",
       "        32. , 33.2, 33.1, 29.1, 35.1, 45.4, 35.4, 46. , 50. , 32.2, 22. ,\n",
       "        20.1, 23.2, 22.3, 24.8, 28.5, 37.3, 27.9, 23.9, 21.7, 28.6, 27.1,\n",
       "        20.3, 22.5, 29. , 24.8, 22. , 26.4, 33.1, 36.1, 28.4, 33.4, 28.2,\n",
       "        22.8, 20.3, 16.1, 22.1, 19.4, 21.6, 23.8, 16.2, 17.8, 19.8, 23.1,\n",
       "        21. , 23.8, 23.1, 20.4, 18.5, 25. , 24.6, 23. , 22.2, 19.3, 22.6,\n",
       "        19.8, 17.1, 19.4, 22.2, 20.7, 21.1, 19.5, 18.5, 20.6, 19. , 18.7,\n",
       "        32.7, 16.5, 23.9, 31.2, 17.5, 17.2, 23.1, 24.5, 26.6, 22.9, 24.1,\n",
       "        18.6, 30.1, 18.2, 20.6, 17.8, 21.7, 22.7, 22.6, 25. , 19.9, 20.8,\n",
       "        16.8, 21.9, 27.5, 21.9, 23.1, 50. , 50. , 50. , 50. , 50. , 13.8,\n",
       "        13.8, 15. , 13.9, 13.3, 13.1, 10.2, 10.4, 10.9, 11.3, 12.3,  8.8,\n",
       "         7.2, 10.5,  7.4, 10.2, 11.5, 15.1, 23.2,  9.7, 13.8, 12.7, 13.1,\n",
       "        12.5,  8.5,  5. ,  6.3,  5.6,  7.2, 12.1,  8.3,  8.5,  5. , 11.9,\n",
       "        27.9, 17.2, 27.5, 15. , 17.2, 17.9, 16.3,  7. ,  7.2,  7.5, 10.4,\n",
       "         8.8,  8.4, 16.7, 14.2, 20.8, 13.4, 11.7,  8.3, 10.2, 10.9, 11. ,\n",
       "         9.5, 14.5, 14.1, 16.1, 14.3, 11.7, 13.4,  9.6,  8.7,  8.4, 12.8,\n",
       "        10.5, 17.1, 18.4, 15.4, 10.8, 11.8, 14.9, 12.6, 14.1, 13. , 13.4,\n",
       "        15.2, 16.1, 17.8, 14.9, 14.1, 12.7, 13.5, 14.9, 20. , 16.4, 17.7,\n",
       "        19.5, 20.2, 21.4, 19.9, 19. , 19.1, 19.1, 20.1, 19.9, 19.6, 23.2,\n",
       "        29.8, 13.8, 13.3, 16.7, 12. , 14.6, 21.4, 23. , 23.7, 25. , 21.8,\n",
       "        20.6, 21.2, 19.1, 20.6, 15.2,  7. ,  8.1, 13.6, 20.1, 21.8, 24.5,\n",
       "        23.1, 19.7, 18.3, 21.2, 17.5, 16.8, 22.4, 20.6, 23.9, 22. , 11.9]),\n",
       " 'feature_names': array(['CRIM', 'ZN', 'INDUS', 'CHAS', 'NOX', 'RM', 'AGE', 'DIS', 'RAD',\n",
       "        'TAX', 'PTRATIO', 'B', 'LSTAT'], dtype='<U7'),\n",
       " 'DESCR': \".. _boston_dataset:\\n\\nBoston house prices dataset\\n---------------------------\\n\\n**Data Set Characteristics:**  \\n\\n    :Number of Instances: 506 \\n\\n    :Number of Attributes: 13 numeric/categorical predictive. Median Value (attribute 14) is usually the target.\\n\\n    :Attribute Information (in order):\\n        - CRIM     per capita crime rate by town\\n        - ZN       proportion of residential land zoned for lots over 25,000 sq.ft.\\n        - INDUS    proportion of non-retail business acres per town\\n        - CHAS     Charles River dummy variable (= 1 if tract bounds river; 0 otherwise)\\n        - NOX      nitric oxides concentration (parts per 10 million)\\n        - RM       average number of rooms per dwelling\\n        - AGE      proportion of owner-occupied units built prior to 1940\\n        - DIS      weighted distances to five Boston employment centres\\n        - RAD      index of accessibility to radial highways\\n        - TAX      full-value property-tax rate per $10,000\\n        - PTRATIO  pupil-teacher ratio by town\\n        - B        1000(Bk - 0.63)^2 where Bk is the proportion of blacks by town\\n        - LSTAT    % lower status of the population\\n        - MEDV     Median value of owner-occupied homes in $1000's\\n\\n    :Missing Attribute Values: None\\n\\n    :Creator: Harrison, D. and Rubinfeld, D.L.\\n\\nThis is a copy of UCI ML housing dataset.\\nhttps://archive.ics.uci.edu/ml/machine-learning-databases/housing/\\n\\n\\nThis dataset was taken from the StatLib library which is maintained at Carnegie Mellon University.\\n\\nThe Boston house-price data of Harrison, D. and Rubinfeld, D.L. 'Hedonic\\nprices and the demand for clean air', J. Environ. Economics & Management,\\nvol.5, 81-102, 1978.   Used in Belsley, Kuh & Welsch, 'Regression diagnostics\\n...', Wiley, 1980.   N.B. Various transformations are used in the table on\\npages 244-261 of the latter.\\n\\nThe Boston house-price data has been used in many machine learning papers that address regression\\nproblems.   \\n     \\n.. topic:: References\\n\\n   - Belsley, Kuh & Welsch, 'Regression diagnostics: Identifying Influential Data and Sources of Collinearity', Wiley, 1980. 244-261.\\n   - Quinlan,R. (1993). Combining Instance-Based and Model-Based Learning. In Proceedings on the Tenth International Conference of Machine Learning, 236-243, University of Massachusetts, Amherst. Morgan Kaufmann.\\n\",\n",
       " 'filename': 'D:\\\\Anaconda 3\\\\lib\\\\site-packages\\\\sklearn\\\\datasets\\\\data\\\\boston_house_prices.csv'}"
      ]
     },
     "execution_count": 14,
     "metadata": {},
     "output_type": "execute_result"
    }
   ],
   "source": [
    "# Создайте датафреймы X и y из этих данных\n",
    "boston = load_boston()\n",
    "boston"
   ]
  },
  {
   "cell_type": "code",
   "execution_count": 18,
   "metadata": {},
   "outputs": [],
   "source": [
    "# Перменныые из датасета \n",
    "data = boston[\"data\"]\n",
    "target = boston[\"target\"]\n",
    "feature_names = boston[\"feature_names\"]"
   ]
  },
  {
   "cell_type": "code",
   "execution_count": 17,
   "metadata": {},
   "outputs": [
    {
     "data": {
      "text/html": [
       "<div>\n",
       "<style scoped>\n",
       "    .dataframe tbody tr th:only-of-type {\n",
       "        vertical-align: middle;\n",
       "    }\n",
       "\n",
       "    .dataframe tbody tr th {\n",
       "        vertical-align: top;\n",
       "    }\n",
       "\n",
       "    .dataframe thead th {\n",
       "        text-align: right;\n",
       "    }\n",
       "</style>\n",
       "<table border=\"1\" class=\"dataframe\">\n",
       "  <thead>\n",
       "    <tr style=\"text-align: right;\">\n",
       "      <th></th>\n",
       "      <th>CRIM</th>\n",
       "      <th>ZN</th>\n",
       "      <th>INDUS</th>\n",
       "      <th>CHAS</th>\n",
       "      <th>NOX</th>\n",
       "      <th>RM</th>\n",
       "      <th>AGE</th>\n",
       "      <th>DIS</th>\n",
       "      <th>RAD</th>\n",
       "      <th>TAX</th>\n",
       "      <th>PTRATIO</th>\n",
       "      <th>B</th>\n",
       "      <th>LSTAT</th>\n",
       "    </tr>\n",
       "  </thead>\n",
       "  <tbody>\n",
       "    <tr>\n",
       "      <td>0</td>\n",
       "      <td>0.00632</td>\n",
       "      <td>18.0</td>\n",
       "      <td>2.31</td>\n",
       "      <td>0.0</td>\n",
       "      <td>0.538</td>\n",
       "      <td>6.575</td>\n",
       "      <td>65.2</td>\n",
       "      <td>4.0900</td>\n",
       "      <td>1.0</td>\n",
       "      <td>296.0</td>\n",
       "      <td>15.3</td>\n",
       "      <td>396.90</td>\n",
       "      <td>4.98</td>\n",
       "    </tr>\n",
       "    <tr>\n",
       "      <td>1</td>\n",
       "      <td>0.02731</td>\n",
       "      <td>0.0</td>\n",
       "      <td>7.07</td>\n",
       "      <td>0.0</td>\n",
       "      <td>0.469</td>\n",
       "      <td>6.421</td>\n",
       "      <td>78.9</td>\n",
       "      <td>4.9671</td>\n",
       "      <td>2.0</td>\n",
       "      <td>242.0</td>\n",
       "      <td>17.8</td>\n",
       "      <td>396.90</td>\n",
       "      <td>9.14</td>\n",
       "    </tr>\n",
       "    <tr>\n",
       "      <td>2</td>\n",
       "      <td>0.02729</td>\n",
       "      <td>0.0</td>\n",
       "      <td>7.07</td>\n",
       "      <td>0.0</td>\n",
       "      <td>0.469</td>\n",
       "      <td>7.185</td>\n",
       "      <td>61.1</td>\n",
       "      <td>4.9671</td>\n",
       "      <td>2.0</td>\n",
       "      <td>242.0</td>\n",
       "      <td>17.8</td>\n",
       "      <td>392.83</td>\n",
       "      <td>4.03</td>\n",
       "    </tr>\n",
       "    <tr>\n",
       "      <td>3</td>\n",
       "      <td>0.03237</td>\n",
       "      <td>0.0</td>\n",
       "      <td>2.18</td>\n",
       "      <td>0.0</td>\n",
       "      <td>0.458</td>\n",
       "      <td>6.998</td>\n",
       "      <td>45.8</td>\n",
       "      <td>6.0622</td>\n",
       "      <td>3.0</td>\n",
       "      <td>222.0</td>\n",
       "      <td>18.7</td>\n",
       "      <td>394.63</td>\n",
       "      <td>2.94</td>\n",
       "    </tr>\n",
       "    <tr>\n",
       "      <td>4</td>\n",
       "      <td>0.06905</td>\n",
       "      <td>0.0</td>\n",
       "      <td>2.18</td>\n",
       "      <td>0.0</td>\n",
       "      <td>0.458</td>\n",
       "      <td>7.147</td>\n",
       "      <td>54.2</td>\n",
       "      <td>6.0622</td>\n",
       "      <td>3.0</td>\n",
       "      <td>222.0</td>\n",
       "      <td>18.7</td>\n",
       "      <td>396.90</td>\n",
       "      <td>5.33</td>\n",
       "    </tr>\n",
       "  </tbody>\n",
       "</table>\n",
       "</div>"
      ],
      "text/plain": [
       "      CRIM    ZN  INDUS  CHAS    NOX     RM   AGE     DIS  RAD    TAX  \\\n",
       "0  0.00632  18.0   2.31   0.0  0.538  6.575  65.2  4.0900  1.0  296.0   \n",
       "1  0.02731   0.0   7.07   0.0  0.469  6.421  78.9  4.9671  2.0  242.0   \n",
       "2  0.02729   0.0   7.07   0.0  0.469  7.185  61.1  4.9671  2.0  242.0   \n",
       "3  0.03237   0.0   2.18   0.0  0.458  6.998  45.8  6.0622  3.0  222.0   \n",
       "4  0.06905   0.0   2.18   0.0  0.458  7.147  54.2  6.0622  3.0  222.0   \n",
       "\n",
       "   PTRATIO       B  LSTAT  \n",
       "0     15.3  396.90   4.98  \n",
       "1     17.8  396.90   9.14  \n",
       "2     17.8  392.83   4.03  \n",
       "3     18.7  394.63   2.94  \n",
       "4     18.7  396.90   5.33  "
      ]
     },
     "execution_count": 17,
     "metadata": {},
     "output_type": "execute_result"
    }
   ],
   "source": [
    "# Датафрейм X\n",
    "X = pd.DataFrame(data, columns=feature_names)\n",
    "X.head()"
   ]
  },
  {
   "cell_type": "code",
   "execution_count": 16,
   "metadata": {},
   "outputs": [
    {
     "data": {
      "text/html": [
       "<div>\n",
       "<style scoped>\n",
       "    .dataframe tbody tr th:only-of-type {\n",
       "        vertical-align: middle;\n",
       "    }\n",
       "\n",
       "    .dataframe tbody tr th {\n",
       "        vertical-align: top;\n",
       "    }\n",
       "\n",
       "    .dataframe thead th {\n",
       "        text-align: right;\n",
       "    }\n",
       "</style>\n",
       "<table border=\"1\" class=\"dataframe\">\n",
       "  <thead>\n",
       "    <tr style=\"text-align: right;\">\n",
       "      <th></th>\n",
       "      <th>price</th>\n",
       "    </tr>\n",
       "  </thead>\n",
       "  <tbody>\n",
       "    <tr>\n",
       "      <td>0</td>\n",
       "      <td>24.0</td>\n",
       "    </tr>\n",
       "    <tr>\n",
       "      <td>1</td>\n",
       "      <td>21.6</td>\n",
       "    </tr>\n",
       "    <tr>\n",
       "      <td>2</td>\n",
       "      <td>34.7</td>\n",
       "    </tr>\n",
       "    <tr>\n",
       "      <td>3</td>\n",
       "      <td>33.4</td>\n",
       "    </tr>\n",
       "    <tr>\n",
       "      <td>4</td>\n",
       "      <td>36.2</td>\n",
       "    </tr>\n",
       "  </tbody>\n",
       "</table>\n",
       "</div>"
      ],
      "text/plain": [
       "   price\n",
       "0   24.0\n",
       "1   21.6\n",
       "2   34.7\n",
       "3   33.4\n",
       "4   36.2"
      ]
     },
     "execution_count": 16,
     "metadata": {},
     "output_type": "execute_result"
    }
   ],
   "source": [
    "# Датафрейм y\n",
    "y = pd.DataFrame(target, columns=[\"price\"])\n",
    "y.head()"
   ]
  },
  {
   "cell_type": "code",
   "execution_count": 34,
   "metadata": {},
   "outputs": [],
   "source": [
    "# Разбейте эти датафреймы на тренировочные (X_train, y_train) и тестовые (X_test, y_test) с помощью функции train_test_split \n",
    "# так, чтобы размер тестовой выборки составлял 20% от всех данных, при этом аргумент random_state должен быть равен 42.\n",
    "\n",
    "from sklearn.model_selection import train_test_split\n",
    "\n",
    "X_train, X_test, y_train, y_test = train_test_split(X, y, test_size=0.20,  random_state = 42)"
   ]
  },
  {
   "cell_type": "code",
   "execution_count": 35,
   "metadata": {},
   "outputs": [],
   "source": [
    "# Масштабируйте данные с помощью StandardScaler\n",
    "from sklearn.preprocessing import StandardScaler\n",
    "\n",
    "scaler = StandardScaler()\n",
    "\n",
    "X_train_scaled = pd.DataFrame(scaler.fit_transform(X_train), columns = X_train.columns)\n",
    "X_test_scaled = pd.DataFrame(scaler.transform(X_test), columns = X_test.columns)"
   ]
  },
  {
   "cell_type": "markdown",
   "metadata": {},
   "source": [
    "###### Алгоритм t-SNE (t-distributed Stochastic Neighbor Embedding или _Стохастическое вложение соседей с t-распределением_) позволяет понижать размерность данных до двух или трёх измерений, что позволяет визуализировать данные на двумерных и трёхмерных графиках. Изучая графики, можно, например, понять, на сколько кластеров адекватно разбивать данные, а также оценить уже выполненное разбиение на кластеры."
   ]
  },
  {
   "cell_type": "code",
   "execution_count": 38,
   "metadata": {},
   "outputs": [
    {
     "name": "stdout",
     "output_type": "stream",
     "text": [
      "До:\t(404, 13)\n",
      "После:\t(404, 2)\n"
     ]
    }
   ],
   "source": [
    "#  Постройте модель t-SNE на тренировочный данных с параметрами: n_components=2, learning_rate=250, random_state=42.\n",
    "from sklearn.manifold import TSNE\n",
    "\n",
    "tsne = TSNE(n_components=2, learning_rate=250, random_state=42)\n",
    "\n",
    "X_train_tsne = tsne.fit_transform(X_train_scaled)\n",
    "\n",
    "print('До:\\t{}'.format(X_train_scaled.shape))\n",
    "print('После:\\t{}'.format(X_train_tsne.shape))"
   ]
  },
  {
   "cell_type": "code",
   "execution_count": 42,
   "metadata": {},
   "outputs": [
    {
     "data": {
      "image/png": "[encoded data removed]",
      "text/plain": [
       "<Figure size 432x288 with 1 Axes>"
      ]
     },
     "metadata": {},
     "output_type": "display_data"
    }
   ],
   "source": [
    "# Постройте диаграмму рассеяния на этих данных\n",
    "plt.scatter(X_train_tsne[:, 0], X_train_tsne[:, 1])\n",
    "\n",
    "plt.show()"
   ]
  },
  {
   "cell_type": "code",
   "execution_count": 55,
   "metadata": {},
   "outputs": [
    {
     "data": {
      "application/vnd.plotly.v1+json": {
       "config": {
        "plotlyServerURL": "https://plot.ly"
       },
       "data": [
        {
         "hoverlabel": {
          "namelength": 0
         },
         "hovertemplate": "x=%{x}<br>y=%{y}",
         "legendgroup": "",
         "marker": {
          "color": "#636efa",
          "symbol": "circle"
         },
         "mode": "markers",
         "name": "",
         "showlegend": false,
         "type": "scatter",
         "x": [
          28.138090133666992,
          -9.785577774047852,
          -15.69575309753418,
          37.92485427856445,
          -8.786393165588379,
          -13.98817253112793,
          -11.960750579833984,
          -18.704307556152344,
          38.66581344604492,
          35.53425979614258,
          -12.056244850158691,
          -5.740067481994629,
          -2.027515411376953,
          35.761878967285156,
          -2.296684503555298,
          -10.22756576538086,
          -7.261146068572998,
          -14.4019775390625,
          -13.338248252868652,
          -17.165924072265625,
          34.027828216552734,
          -4.423198699951172,
          -15.497815132141113,
          -10.733388900756836,
          -18.339698791503906,
          -3.087924003601074,
          8.299799919128418,
          -1.5845332145690918,
          -1.7503095865249634,
          -17.836658477783203,
          -8.456023216247559,
          -3.9704554080963135,
          5.307853698730469,
          35.637428283691406,
          -11.57609748840332,
          -17.734853744506836,
          -15.124906539916992,
          -9.148589134216309,
          -8.659377098083496,
          -16.324066162109375,
          -17.55832290649414,
          6.480410099029541,
          31.174524307250977,
          -9.849212646484375,
          8.876485824584961,
          25.288591384887695,
          -9.757773399353027,
          -0.2112339735031128,
          36.2806510925293,
          24.669172286987305,
          -7.998272895812988,
          -4.818826198577881,
          -14.016992568969727,
          -12.478437423706055,
          26.39421844482422,
          22.183818817138672,
          -7.556576728820801,
          32.93328857421875,
          -6.182796478271484,
          -13.59729290008545,
          -7.674780368804932,
          -10.064885139465332,
          2.029481887817383,
          -7.0646491050720215,
          2.8209564685821533,
          26.092727661132812,
          -9.137147903442383,
          -14.996927261352539,
          2.1641650199890137,
          -6.453408241271973,
          -11.519039154052734,
          1.8227492570877075,
          24.0560359954834,
          -5.100667476654053,
          -3.9655966758728027,
          -5.596575736999512,
          -13.10737133026123,
          -9.22256088256836,
          5.209641456604004,
          28.591278076171875,
          26.882253646850586,
          18.100563049316406,
          -21.71172332763672,
          8.160860061645508,
          37.348514556884766,
          0.3241937756538391,
          17.81884765625,
          -16.28749656677246,
          22.972352981567383,
          2.435102939605713,
          -6.301253318786621,
          26.08963394165039,
          29.241607666015625,
          -14.919875144958496,
          -17.32777214050293,
          -7.14579963684082,
          23.83222007751465,
          5.877645015716553,
          -9.879020690917969,
          9.006916999816895,
          7.99203634262085,
          -8.45233154296875,
          -11.306772232055664,
          -15.029135704040527,
          2.8994929790496826,
          9.957072257995605,
          -17.30231285095215,
          -1.7587040662765503,
          -15.524320602416992,
          -6.539498329162598,
          36.8698616027832,
          -18.851728439331055,
          -5.789373397827148,
          -16.433256149291992,
          -13.80782413482666,
          24.613048553466797,
          17.841777801513672,
          29.549850463867188,
          -3.8460729122161865,
          2.7909812927246094,
          -1.867841362953186,
          29.773649215698242,
          25.423192977905273,
          -7.883637428283691,
          -15.9246826171875,
          0.8281030058860779,
          22.932510375976562,
          -13.440202713012695,
          -16.127445220947266,
          28.7572021484375,
          -14.64209270477295,
          -3.4913365840911865,
          -3.8387539386749268,
          3.162611722946167,
          -16.07027816772461,
          17.245773315429688,
          -4.442483425140381,
          -12.030938148498535,
          1.7066959142684937,
          3.998798131942749,
          -4.1890411376953125,
          26.139463424682617,
          -6.6152238845825195,
          -5.599869728088379,
          -14.99599552154541,
          29.986173629760742,
          -6.975162506103516,
          -10.448421478271484,
          -12.287484169006348,
          -7.823965072631836,
          3.0520691871643066,
          25.116960525512695,
          -15.659012794494629,
          -17.36604881286621,
          -16.181859970092773,
          26.63608169555664,
          5.528126239776611,
          25.4152889251709,
          5.235278129577637,
          36.829715728759766,
          -15.767955780029297,
          -1.832186222076416,
          1.3897122144699097,
          -6.3575615882873535,
          4.91289758682251,
          -13.259506225585938,
          -9.81864070892334,
          -1.9475685358047485,
          -19.38514518737793,
          -2.0644731521606445,
          -3.83290433883667,
          -15.547487258911133,
          -15.642579078674316,
          24.980056762695312,
          -13.009830474853516,
          -20.31954574584961,
          34.64148712158203,
          27.20115852355957,
          -19.196426391601562,
          -2.215622901916504,
          -8.550802230834961,
          -3.265153169631958,
          23.78835678100586,
          8.167024612426758,
          0.17315466701984406,
          37.045249938964844,
          -13.55933952331543,
          -15.93649959564209,
          33.16281509399414,
          24.122591018676758,
          17.95651626586914,
          -16.353870391845703,
          -16.801658630371094,
          17.696271896362305,
          39.31819152832031,
          -4.157177925109863,
          -4.258837699890137,
          -8.99943733215332,
          -19.100439071655273,
          -12.137617111206055,
          24.82777976989746,
          37.34647750854492,
          -1.0925041437149048,
          -3.9396259784698486,
          1.5488351583480835,
          0.25649604201316833,
          -16.48436737060547,
          3.1955058574676514,
          -0.8474370837211609,
          -4.558232307434082,
          -2.515753984451294,
          -19.989328384399414,
          -0.7226130962371826,
          30.259971618652344,
          -10.158079147338867,
          0.08230315893888474,
          -15.869552612304688,
          38.73603820800781,
          -6.79148006439209,
          29.3762149810791,
          24.12397575378418,
          0.13618093729019165,
          32.024314880371094,
          -14.086000442504883,
          -8.724421501159668,
          -16.908262252807617,
          -21.90854263305664,
          -6.8059258460998535,
          -13.415857315063477,
          -2.8626866340637207,
          38.53171157836914,
          3.605246067047119,
          -16.2297420501709,
          -7.671777248382568,
          -7.545535564422607,
          2.4615848064422607,
          9.198016166687012,
          25.932146072387695,
          -17.37660789489746,
          6.972787857055664,
          -5.684963226318359,
          -13.44273567199707,
          -12.794305801391602,
          27.561574935913086,
          26.984895706176758,
          -2.94622802734375,
          -15.503091812133789,
          28.817474365234375,
          24.508346557617188,
          -11.032841682434082,
          -22.25300407409668,
          -18.475942611694336,
          38.0399055480957,
          -7.427979469299316,
          -15.430384635925293,
          21.784282684326172,
          -5.957313060760498,
          -0.9355559945106506,
          36.18915939331055,
          -12.23030948638916,
          36.391273498535156,
          1.929116129875183,
          -3.4254379272460938,
          -13.525520324707031,
          -11.699257850646973,
          -12.930644989013672,
          -12.940567970275879,
          -11.337043762207031,
          2.284489870071411,
          -11.63337516784668,
          -17.142038345336914,
          23.838594436645508,
          -10.02148151397705,
          24.860498428344727,
          -5.9925737380981445,
          2.854370355606079,
          -16.063274383544922,
          9.832547187805176,
          37.56718826293945,
          0.41758254170417786,
          -13.812566757202148,
          0.931556761264801,
          0.9676187634468079,
          23.09625244140625,
          -14.31750202178955,
          -13.200440406799316,
          25.894344329833984,
          -16.050853729248047,
          -16.235118865966797,
          -7.953785419464111,
          5.768365859985352,
          -13.822851181030273,
          27.854665756225586,
          25.477354049682617,
          23.769041061401367,
          7.5614471435546875,
          -11.319219589233398,
          26.7924747467041,
          -4.525932312011719,
          -10.308158874511719,
          7.791233062744141,
          -8.620615005493164,
          -10.567705154418945,
          -17.374204635620117,
          23.803836822509766,
          -17.44331932067871,
          -7.807387351989746,
          24.428922653198242,
          -13.235815048217773,
          -17.26802635192871,
          6.85231351852417,
          -17.058027267456055,
          1.7377909421920776,
          -15.496488571166992,
          -2.7052154541015625,
          26.84400177001953,
          -13.481953620910645,
          -5.812560081481934,
          2.580955982208252,
          -7.545675277709961,
          -15.222615242004395,
          26.268550872802734,
          -6.346195697784424,
          23.597431182861328,
          1.9722594022750854,
          -12.995844841003418,
          37.45243835449219,
          -10.959866523742676,
          -12.993106842041016,
          -10.84146785736084,
          36.12135696411133,
          3.314650535583496,
          35.02959060668945,
          23.96761131286621,
          -5.074072360992432,
          -11.020782470703125,
          26.17481803894043,
          -14.710018157958984,
          -15.141213417053223,
          2.6550402641296387,
          -13.272612571716309,
          -9.680867195129395,
          -6.794485092163086,
          -3.258638620376587,
          29.28725814819336,
          -22.125442504882812,
          1.7329541444778442,
          -17.960464477539062,
          -6.618411064147949,
          -0.35213011503219604,
          -7.452158451080322,
          24.731822967529297,
          -7.48475980758667,
          -15.040484428405762,
          -20.080398559570312,
          18.261272430419922,
          -14.090936660766602,
          23.588979721069336,
          -5.163389682769775,
          37.95271301269531,
          -12.184301376342773,
          -4.743852615356445,
          22.915224075317383,
          -12.021965980529785,
          2.149705648422241,
          -16.094846725463867,
          -13.842692375183105,
          -14.436537742614746,
          -6.008073806762695,
          -18.098129272460938,
          -8.40699577331543,
          -4.529141426086426,
          24.13882064819336,
          8.845355987548828,
          7.13356876373291,
          25.17281723022461,
          -13.478057861328125,
          28.600034713745117,
          -16.849109649658203,
          31.180587768554688,
          -14.50355052947998,
          2.70746111869812,
          -3.640909194946289,
          4.791021823883057,
          0.853029191493988,
          4.364199638366699,
          22.8590087890625,
          -3.35573410987854,
          18.297565460205078,
          -7.4130706787109375,
          22.988801956176758,
          -18.15911102294922,
          -10.182291984558105,
          36.82933807373047,
          -2.308262348175049,
          -4.720948696136475,
          -10.18252944946289,
          -12.676905632019043,
          -14.794759750366211,
          -7.8714423179626465,
          -13.531818389892578,
          -17.8717098236084,
          37.071964263916016,
          -10.998274803161621
         ],
         "xaxis": "x",
         "y": [
          18.375324249267578,
          -4.535538673400879,
          -17.54362678527832,
          13.517045974731445,
          3.995166540145874,
          -7.762665748596191,
          -7.477197647094727,
          -23.81291389465332,
          12.557709693908691,
          11.327714920043945,
          -8.116859436035156,
          -5.818462371826172,
          -8.284211158752441,
          12.485169410705566,
          -10.119440078735352,
          7.138570785522461,
          1.1323055028915405,
          -18.217144012451172,
          -12.094605445861816,
          -12.843067169189453,
          17.060033798217773,
          0.22272194921970367,
          -7.909300327301025,
          -5.520516395568848,
          -23.839216232299805,
          -8.492774963378906,
          2.3935861587524414,
          -12.517796516418457,
          13.745354652404785,
          -8.000917434692383,
          7.1432576179504395,
          1.7679942846298218,
          6.620876312255859,
          13.454849243164062,
          -6.726914882659912,
          -25.4604434967041,
          -22.501611709594727,
          6.324594974517822,
          6.130604267120361,
          -23.121286392211914,
          -22.25469398498535,
          -1.2868648767471313,
          17.798105239868164,
          -10.464815139770508,
          2.1363351345062256,
          15.68880558013916,
          5.866697311401367,
          -10.906813621520996,
          12.509353637695312,
          15.230006217956543,
          -9.4287748336792,
          0.21983899176120758,
          -5.130568504333496,
          -6.539828300476074,
          12.135004043579102,
          13.560776710510254,
          -10.210701942443848,
          17.762104034423828,
          -5.477753639221191,
          -12.097708702087402,
          2.8502883911132812,
          -5.581969738006592,
          -5.832189559936523,
          7.4513139724731445,
          -9.180927276611328,
          14.185688018798828,
          6.749770641326904,
          0.3744402527809143,
          13.593367576599121,
          6.181309223175049,
          -5.173037528991699,
          0.9051862955093384,
          11.766386032104492,
          1.341476559638977,
          0.13827882707118988,
          -9.552627563476562,
          -21.394411087036133,
          -12.404206275939941,
          7.0080108642578125,
          19.93478775024414,
          18.31989288330078,
          9.417340278625488,
          -16.2291202545166,
          -2.0175364017486572,
          12.9169340133667,
          14.745590209960938,
          8.210229873657227,
          -10.81173324584961,
          14.721687316894531,
          2.454786777496338,
          1.679091215133667,
          16.241724014282227,
          16.87148094177246,
          -22.699377059936523,
          -13.238886833190918,
          5.609570503234863,
          16.11304473876953,
          5.382422924041748,
          -10.558213233947754,
          2.170090913772583,
          -2.0906929969787598,
          -14.400634765625,
          -13.559564590454102,
          -13.15610408782959,
          2.690472364425659,
          -0.923422634601593,
          -24.693302154541016,
          -9.065764427185059,
          -6.370616436004639,
          -2.422774314880371,
          12.771760940551758,
          -13.646538734436035,
          0.7386084198951721,
          -25.035593032836914,
          -18.64319610595703,
          9.975407600402832,
          9.101089477539062,
          17.52821159362793,
          -12.100049018859863,
          -8.257888793945312,
          -9.096159934997559,
          18.961406707763672,
          13.732558250427246,
          -3.592167854309082,
          -26.287376403808594,
          12.57889461517334,
          18.894269943237305,
          -12.779950141906738,
          -20.58344078063965,
          16.142431259155273,
          -12.577880859375,
          -0.6340091228485107,
          -9.338226318359375,
          -7.068692207336426,
          -1.5124114751815796,
          7.4808549880981445,
          7.090594291687012,
          -21.472827911376953,
          2.258812427520752,
          5.2653069496154785,
          -5.939277648925781,
          17.14191436767578,
          -4.8829450607299805,
          -2.0540730953216553,
          0.40503403544425964,
          19.74332046508789,
          5.662089824676514,
          -13.048318862915039,
          -5.241445541381836,
          -0.9008156657218933,
          3.016993522644043,
          17.29494285583496,
          -24.038593292236328,
          -4.087644100189209,
          -26.34768295288086,
          14.901728630065918,
          4.828138828277588,
          14.878469467163086,
          6.988229274749756,
          12.264388084411621,
          -20.85140037536621,
          13.562255859375,
          14.746112823486328,
          -5.985609531402588,
          6.617040157318115,
          -17.604829788208008,
          -15.477853775024414,
          -10.904417991638184,
          -24.6796932220459,
          12.801992416381836,
          -7.413153171539307,
          -25.46320152282715,
          -12.686100959777832,
          10.187860488891602,
          -18.062768936157227,
          -22.090429306030273,
          16.47110939025879,
          19.226648330688477,
          -22.95528793334961,
          12.448602676391602,
          -13.666838645935059,
          -5.994677543640137,
          17.7661190032959,
          -1.1479510068893433,
          12.991439819335938,
          14.41448974609375,
          -24.682632446289062,
          -16.87104034423828,
          17.745155334472656,
          10.927586555480957,
          9.111318588256836,
          -2.8021321296691895,
          -3.7432100772857666,
          8.063520431518555,
          12.173501014709473,
          1.679007887840271,
          -9.364104270935059,
          0.4102226197719574,
          -7.604186058044434,
          -8.192925453186035,
          10.764384269714355,
          13.718558311462402,
          -10.970732688903809,
          -2.1098408699035645,
          2.9986934661865234,
          12.325608253479004,
          -26.39892578125,
          -8.019168853759766,
          -11.139127731323242,
          1.6130913496017456,
          12.342392921447754,
          -22.772621154785156,
          -10.556595802307129,
          19.21916389465332,
          -6.271653175354004,
          12.737292289733887,
          -21.86865234375,
          11.800873756408691,
          5.175138473510742,
          20.233856201171875,
          16.21744155883789,
          12.168943405151367,
          15.315181732177734,
          -5.363466262817383,
          0.9807595610618591,
          -23.184362411499023,
          -17.54456329345703,
          -8.652676582336426,
          -16.153621673583984,
          -11.136652946472168,
          13.148892402648926,
          4.84486722946167,
          -1.7723833322525024,
          -3.6894447803497314,
          7.426571369171143,
          3.225726366043091,
          2.459146022796631,
          15.399396896362305,
          -14.939688682556152,
          -1.4668117761611938,
          -8.454684257507324,
          -15.200071334838867,
          -16.975967407226562,
          15.294234275817871,
          18.00884437561035,
          -7.238170146942139,
          -8.421703338623047,
          17.06260108947754,
          14.443546295166016,
          -3.739806652069092,
          -16.357255935668945,
          -23.196714401245117,
          11.598590850830078,
          -10.235607147216797,
          -25.19394302368164,
          15.32227897644043,
          6.76354455947876,
          -10.190532684326172,
          11.663576126098633,
          -4.221141338348389,
          14.305791854858398,
          3.0408737659454346,
          -11.627706527709961,
          -24.600927352905273,
          -4.09099006652832,
          -11.934930801391602,
          -0.4765916168689728,
          7.607918739318848,
          -9.299532890319824,
          -5.887435436248779,
          -24.856082916259766,
          15.146821975708008,
          7.4746623039245605,
          14.40900993347168,
          -3.731149435043335,
          -7.5800700187683105,
          -20.360397338867188,
          -0.8666144013404846,
          12.216381072998047,
          13.216444969177246,
          -13.253205299377441,
          12.14478874206543,
          11.847687721252441,
          11.110595703125,
          1.1988450288772583,
          -7.426304817199707,
          11.432907104492188,
          -14.609416007995605,
          -23.98233413696289,
          6.930832386016846,
          4.625639915466309,
          -24.475908279418945,
          16.113405227661133,
          10.39887523651123,
          17.94837188720703,
          -0.9602051973342896,
          -18.57312774658203,
          17.638954162597656,
          6.974071979522705,
          -6.718693733215332,
          -2.0767228603363037,
          -0.9724774360656738,
          2.3712093830108643,
          -4.417111396789551,
          13.487241744995117,
          -12.70961856842041,
          1.1758325099945068,
          12.269543647766113,
          -19.297832489013672,
          -15.00171947479248,
          -2.2026383876800537,
          -22.678110122680664,
          0.15608231723308563,
          -7.854482650756836,
          -1.9023329019546509,
          15.729170799255371,
          -21.22452163696289,
          -1.322309970855713,
          -7.189491271972656,
          5.0107879638671875,
          -16.823720932006836,
          18.081859588623047,
          -7.120465278625488,
          15.70285415649414,
          13.89457893371582,
          -1.1117193698883057,
          11.563729286193848,
          -14.22965145111084,
          -4.799782752990723,
          7.952926158905029,
          13.094281196594238,
          -7.7313408851623535,
          16.06033706665039,
          18.916976928710938,
          -6.514836311340332,
          -6.435238838195801,
          13.198643684387207,
          -17.447677612304688,
          -11.433767318725586,
          -7.7361555099487305,
          -15.500978469848633,
          -4.5061235427856445,
          -1.009381890296936,
          -8.201491355895996,
          19.184463500976562,
          -15.69958782196045,
          -0.048143062740564346,
          -7.913996696472168,
          1.229623556137085,
          11.634970664978027,
          -13.865846633911133,
          11.891587257385254,
          -1.8751059770584106,
          -18.20078468322754,
          -21.37458610534668,
          9.287549018859863,
          -15.437442779541016,
          14.02876091003418,
          -4.655836582183838,
          12.312581062316895,
          -20.39561653137207,
          5.782634258270264,
          13.191609382629395,
          -19.909852981567383,
          2.3031389713287354,
          -12.791017532348633,
          1.4775032997131348,
          -20.826988220214844,
          -3.785069227218628,
          -13.361869812011719,
          6.364421367645264,
          -1.9444125890731812,
          13.713236808776855,
          -0.23877571523189545,
          -3.7396976947784424,
          15.642476081848145,
          -20.88323211669922,
          19.094972610473633,
          -4.621357440948486,
          16.893665313720703,
          -20.11355209350586,
          -9.536966323852539,
          -2.7127668857574463,
          6.022308349609375,
          11.511640548706055,
          5.4228057861328125,
          13.928215026855469,
          -10.157820701599121,
          8.68865966796875,
          -6.301043510437012,
          16.171262741088867,
          -7.916884899139404,
          0.33073198795318604,
          13.601653099060059,
          12.381547927856445,
          5.780968189239502,
          5.950206279754639,
          -20.081707000732422,
          -6.444028377532959,
          4.985711097717285,
          -4.034056663513184,
          -23.8909854888916,
          11.377392768859863,
          8.84381103515625
         ],
         "yaxis": "y"
        }
       ],
       "layout": {
        "legend": {
         "tracegroupgap": 0
        },
        "margin": {
         "t": 60
        },
        "template": {
         "data": {
          "bar": [
           {
            "error_x": {
             "color": "#2a3f5f"
            },
            "error_y": {
             "color": "#2a3f5f"
            },
            "marker": {
             "line": {
              "color": "#E5ECF6",
              "width": 0.5
             }
            },
            "type": "bar"
           }
          ],
          "barpolar": [
           {
            "marker": {
             "line": {
              "color": "#E5ECF6",
              "width": 0.5
             }
            },
            "type": "barpolar"
           }
          ],
          "carpet": [
           {
            "aaxis": {
             "endlinecolor": "#2a3f5f",
             "gridcolor": "white",
             "linecolor": "white",
             "minorgridcolor": "white",
             "startlinecolor": "#2a3f5f"
            },
            "baxis": {
             "endlinecolor": "#2a3f5f",
             "gridcolor": "white",
             "linecolor": "white",
             "minorgridcolor": "white",
             "startlinecolor": "#2a3f5f"
            },
            "type": "carpet"
           }
          ],
          "choropleth": [
           {
            "colorbar": {
             "outlinewidth": 0,
             "ticks": ""
            },
            "type": "choropleth"
           }
          ],
          "contour": [
           {
            "colorbar": {
             "outlinewidth": 0,
             "ticks": ""
            },
            "colorscale": [
             [
              0,
              "#0d0887"
             ],
             [
              0.1111111111111111,
              "#46039f"
             ],
             [
              0.2222222222222222,
              "#7201a8"
             ],
             [
              0.3333333333333333,
              "#9c179e"
             ],
             [
              0.4444444444444444,
              "#bd3786"
             ],
             [
              0.5555555555555556,
              "#d8576b"
             ],
             [
              0.6666666666666666,
              "#ed7953"
             ],
             [
              0.7777777777777778,
              "#fb9f3a"
             ],
             [
              0.8888888888888888,
              "#fdca26"
             ],
             [
              1,
              "#f0f921"
             ]
            ],
            "type": "contour"
           }
          ],
          "contourcarpet": [
           {
            "colorbar": {
             "outlinewidth": 0,
             "ticks": ""
            },
            "type": "contourcarpet"
           }
          ],
          "heatmap": [
           {
            "colorbar": {
             "outlinewidth": 0,
             "ticks": ""
            },
            "colorscale": [
             [
              0,
              "#0d0887"
             ],
             [
              0.1111111111111111,
              "#46039f"
             ],
             [
              0.2222222222222222,
              "#7201a8"
             ],
             [
              0.3333333333333333,
              "#9c179e"
             ],
             [
              0.4444444444444444,
              "#bd3786"
             ],
             [
              0.5555555555555556,
              "#d8576b"
             ],
             [
              0.6666666666666666,
              "#ed7953"
             ],
             [
              0.7777777777777778,
              "#fb9f3a"
             ],
             [
              0.8888888888888888,
              "#fdca26"
             ],
             [
              1,
              "#f0f921"
             ]
            ],
            "type": "heatmap"
           }
          ],
          "heatmapgl": [
           {
            "colorbar": {
             "outlinewidth": 0,
             "ticks": ""
            },
            "colorscale": [
             [
              0,
              "#0d0887"
             ],
             [
              0.1111111111111111,
              "#46039f"
             ],
             [
              0.2222222222222222,
              "#7201a8"
             ],
             [
              0.3333333333333333,
              "#9c179e"
             ],
             [
              0.4444444444444444,
              "#bd3786"
             ],
             [
              0.5555555555555556,
              "#d8576b"
             ],
             [
              0.6666666666666666,
              "#ed7953"
             ],
             [
              0.7777777777777778,
              "#fb9f3a"
             ],
             [
              0.8888888888888888,
              "#fdca26"
             ],
             [
              1,
              "#f0f921"
             ]
            ],
            "type": "heatmapgl"
           }
          ],
          "histogram": [
           {
            "marker": {
             "colorbar": {
              "outlinewidth": 0,
              "ticks": ""
             }
            },
            "type": "histogram"
           }
          ],
          "histogram2d": [
           {
            "colorbar": {
             "outlinewidth": 0,
             "ticks": ""
            },
            "colorscale": [
             [
              0,
              "#0d0887"
             ],
             [
              0.1111111111111111,
              "#46039f"
             ],
             [
              0.2222222222222222,
              "#7201a8"
             ],
             [
              0.3333333333333333,
              "#9c179e"
             ],
             [
              0.4444444444444444,
              "#bd3786"
             ],
             [
              0.5555555555555556,
              "#d8576b"
             ],
             [
              0.6666666666666666,
              "#ed7953"
             ],
             [
              0.7777777777777778,
              "#fb9f3a"
             ],
             [
              0.8888888888888888,
              "#fdca26"
             ],
             [
              1,
              "#f0f921"
             ]
            ],
            "type": "histogram2d"
           }
          ],
          "histogram2dcontour": [
           {
            "colorbar": {
             "outlinewidth": 0,
             "ticks": ""
            },
            "colorscale": [
             [
              0,
              "#0d0887"
             ],
             [
              0.1111111111111111,
              "#46039f"
             ],
             [
              0.2222222222222222,
              "#7201a8"
             ],
             [
              0.3333333333333333,
              "#9c179e"
             ],
             [
              0.4444444444444444,
              "#bd3786"
             ],
             [
              0.5555555555555556,
              "#d8576b"
             ],
             [
              0.6666666666666666,
              "#ed7953"
             ],
             [
              0.7777777777777778,
              "#fb9f3a"
             ],
             [
              0.8888888888888888,
              "#fdca26"
             ],
             [
              1,
              "#f0f921"
             ]
            ],
            "type": "histogram2dcontour"
           }
          ],
          "mesh3d": [
           {
            "colorbar": {
             "outlinewidth": 0,
             "ticks": ""
            },
            "type": "mesh3d"
           }
          ],
          "parcoords": [
           {
            "line": {
             "colorbar": {
              "outlinewidth": 0,
              "ticks": ""
             }
            },
            "type": "parcoords"
           }
          ],
          "pie": [
           {
            "automargin": true,
            "type": "pie"
           }
          ],
          "scatter": [
           {
            "marker": {
             "colorbar": {
              "outlinewidth": 0,
              "ticks": ""
             }
            },
            "type": "scatter"
           }
          ],
          "scatter3d": [
           {
            "line": {
             "colorbar": {
              "outlinewidth": 0,
              "ticks": ""
             }
            },
            "marker": {
             "colorbar": {
              "outlinewidth": 0,
              "ticks": ""
             }
            },
            "type": "scatter3d"
           }
          ],
          "scattercarpet": [
           {
            "marker": {
             "colorbar": {
              "outlinewidth": 0,
              "ticks": ""
             }
            },
            "type": "scattercarpet"
           }
          ],
          "scattergeo": [
           {
            "marker": {
             "colorbar": {
              "outlinewidth": 0,
              "ticks": ""
             }
            },
            "type": "scattergeo"
           }
          ],
          "scattergl": [
           {
            "marker": {
             "colorbar": {
              "outlinewidth": 0,
              "ticks": ""
             }
            },
            "type": "scattergl"
           }
          ],
          "scattermapbox": [
           {
            "marker": {
             "colorbar": {
              "outlinewidth": 0,
              "ticks": ""
             }
            },
            "type": "scattermapbox"
           }
          ],
          "scatterpolar": [
           {
            "marker": {
             "colorbar": {
              "outlinewidth": 0,
              "ticks": ""
             }
            },
            "type": "scatterpolar"
           }
          ],
          "scatterpolargl": [
           {
            "marker": {
             "colorbar": {
              "outlinewidth": 0,
              "ticks": ""
             }
            },
            "type": "scatterpolargl"
           }
          ],
          "scatterternary": [
           {
            "marker": {
             "colorbar": {
              "outlinewidth": 0,
              "ticks": ""
             }
            },
            "type": "scatterternary"
           }
          ],
          "surface": [
           {
            "colorbar": {
             "outlinewidth": 0,
             "ticks": ""
            },
            "colorscale": [
             [
              0,
              "#0d0887"
             ],
             [
              0.1111111111111111,
              "#46039f"
             ],
             [
              0.2222222222222222,
              "#7201a8"
             ],
             [
              0.3333333333333333,
              "#9c179e"
             ],
             [
              0.4444444444444444,
              "#bd3786"
             ],
             [
              0.5555555555555556,
              "#d8576b"
             ],
             [
              0.6666666666666666,
              "#ed7953"
             ],
             [
              0.7777777777777778,
              "#fb9f3a"
             ],
             [
              0.8888888888888888,
              "#fdca26"
             ],
             [
              1,
              "#f0f921"
             ]
            ],
            "type": "surface"
           }
          ],
          "table": [
           {
            "cells": {
             "fill": {
              "color": "#EBF0F8"
             },
             "line": {
              "color": "white"
             }
            },
            "header": {
             "fill": {
              "color": "#C8D4E3"
             },
             "line": {
              "color": "white"
             }
            },
            "type": "table"
           }
          ]
         },
         "layout": {
          "annotationdefaults": {
           "arrowcolor": "#2a3f5f",
           "arrowhead": 0,
           "arrowwidth": 1
          },
          "coloraxis": {
           "colorbar": {
            "outlinewidth": 0,
            "ticks": ""
           }
          },
          "colorscale": {
           "diverging": [
            [
             0,
             "#8e0152"
            ],
            [
             0.1,
             "#c51b7d"
            ],
            [
             0.2,
             "#de77ae"
            ],
            [
             0.3,
             "#f1b6da"
            ],
            [
             0.4,
             "#fde0ef"
            ],
            [
             0.5,
             "#f7f7f7"
            ],
            [
             0.6,
             "#e6f5d0"
            ],
            [
             0.7,
             "#b8e186"
            ],
            [
             0.8,
             "#7fbc41"
            ],
            [
             0.9,
             "#4d9221"
            ],
            [
             1,
             "#276419"
            ]
           ],
           "sequential": [
            [
             0,
             "#0d0887"
            ],
            [
             0.1111111111111111,
             "#46039f"
            ],
            [
             0.2222222222222222,
             "#7201a8"
            ],
            [
             0.3333333333333333,
             "#9c179e"
            ],
            [
             0.4444444444444444,
             "#bd3786"
            ],
            [
             0.5555555555555556,
             "#d8576b"
            ],
            [
             0.6666666666666666,
             "#ed7953"
            ],
            [
             0.7777777777777778,
             "#fb9f3a"
            ],
            [
             0.8888888888888888,
             "#fdca26"
            ],
            [
             1,
             "#f0f921"
            ]
           ],
           "sequentialminus": [
            [
             0,
             "#0d0887"
            ],
            [
             0.1111111111111111,
             "#46039f"
            ],
            [
             0.2222222222222222,
             "#7201a8"
            ],
            [
             0.3333333333333333,
             "#9c179e"
            ],
            [
             0.4444444444444444,
             "#bd3786"
            ],
            [
             0.5555555555555556,
             "#d8576b"
            ],
            [
             0.6666666666666666,
             "#ed7953"
            ],
            [
             0.7777777777777778,
             "#fb9f3a"
            ],
            [
             0.8888888888888888,
             "#fdca26"
            ],
            [
             1,
             "#f0f921"
            ]
           ]
          },
          "colorway": [
           "#636efa",
           "#EF553B",
           "#00cc96",
           "#ab63fa",
           "#FFA15A",
           "#19d3f3",
           "#FF6692",
           "#B6E880",
           "#FF97FF",
           "#FECB52"
          ],
          "font": {
           "color": "#2a3f5f"
          },
          "geo": {
           "bgcolor": "white",
           "lakecolor": "white",
           "landcolor": "#E5ECF6",
           "showlakes": true,
           "showland": true,
           "subunitcolor": "white"
          },
          "hoverlabel": {
           "align": "left"
          },
          "hovermode": "closest",
          "mapbox": {
           "style": "light"
          },
          "paper_bgcolor": "white",
          "plot_bgcolor": "#E5ECF6",
          "polar": {
           "angularaxis": {
            "gridcolor": "white",
            "linecolor": "white",
            "ticks": ""
           },
           "bgcolor": "#E5ECF6",
           "radialaxis": {
            "gridcolor": "white",
            "linecolor": "white",
            "ticks": ""
           }
          },
          "scene": {
           "xaxis": {
            "backgroundcolor": "#E5ECF6",
            "gridcolor": "white",
            "gridwidth": 2,
            "linecolor": "white",
            "showbackground": true,
            "ticks": "",
            "zerolinecolor": "white"
           },
           "yaxis": {
            "backgroundcolor": "#E5ECF6",
            "gridcolor": "white",
            "gridwidth": 2,
            "linecolor": "white",
            "showbackground": true,
            "ticks": "",
            "zerolinecolor": "white"
           },
           "zaxis": {
            "backgroundcolor": "#E5ECF6",
            "gridcolor": "white",
            "gridwidth": 2,
            "linecolor": "white",
            "showbackground": true,
            "ticks": "",
            "zerolinecolor": "white"
           }
          },
          "shapedefaults": {
           "line": {
            "color": "#2a3f5f"
           }
          },
          "ternary": {
           "aaxis": {
            "gridcolor": "white",
            "linecolor": "white",
            "ticks": ""
           },
           "baxis": {
            "gridcolor": "white",
            "linecolor": "white",
            "ticks": ""
           },
           "bgcolor": "#E5ECF6",
           "caxis": {
            "gridcolor": "white",
            "linecolor": "white",
            "ticks": ""
           }
          },
          "title": {
           "x": 0.05
          },
          "xaxis": {
           "automargin": true,
           "gridcolor": "white",
           "linecolor": "white",
           "ticks": "",
           "title": {
            "standoff": 15
           },
           "zerolinecolor": "white",
           "zerolinewidth": 2
          },
          "yaxis": {
           "automargin": true,
           "gridcolor": "white",
           "linecolor": "white",
           "ticks": "",
           "title": {
            "standoff": 15
           },
           "zerolinecolor": "white",
           "zerolinewidth": 2
          }
         }
        },
        "xaxis": {
         "anchor": "y",
         "domain": [
          0,
          1
         ],
         "title": {
          "text": "x"
         }
        },
        "yaxis": {
         "anchor": "x",
         "domain": [
          0,
          1
         ],
         "title": {
          "text": "y"
         }
        }
       }
      },
      "text/html": [
       "<div>\n",
       "        \n",
       "        \n",
       "            <div id=\"6375fa71-1e44-41da-9dd5-e7814cba5715\" class=\"plotly-graph-div\" style=\"height:525px; width:100%;\"></div>\n",
       "            <script type=\"text/javascript\">\n",
       "                require([\"plotly\"], function(Plotly) {\n",
       "                    window.PLOTLYENV=window.PLOTLYENV || {};\n",
       "                    \n",
       "                if (document.getElementById(\"6375fa71-1e44-41da-9dd5-e7814cba5715\")) {\n",
       "                    Plotly.newPlot(\n",
       "                        '6375fa71-1e44-41da-9dd5-e7814cba5715',\n",
       "                        [{\"hoverlabel\": {\"namelength\": 0}, \"hovertemplate\": \"x=%{x}<br>y=%{y}\", \"legendgroup\": \"\", \"marker\": {\"color\": \"#636efa\", \"symbol\": \"circle\"}, \"mode\": \"markers\", \"name\": \"\", \"showlegend\": false, \"type\": \"scatter\", \"x\": [28.138090133666992, -9.785577774047852, -15.69575309753418, 37.92485427856445, -8.786393165588379, -13.98817253112793, -11.960750579833984, -18.704307556152344, 38.66581344604492, 35.53425979614258, -12.056244850158691, -5.740067481994629, -2.027515411376953, 35.761878967285156, -2.296684503555298, -10.22756576538086, -7.261146068572998, -14.4019775390625, -13.338248252868652, -17.165924072265625, 34.027828216552734, -4.423198699951172, -15.497815132141113, -10.733388900756836, -18.339698791503906, -3.087924003601074, 8.299799919128418, -1.5845332145690918, -1.7503095865249634, -17.836658477783203, -8.456023216247559, -3.9704554080963135, 5.307853698730469, 35.637428283691406, -11.57609748840332, -17.734853744506836, -15.124906539916992, -9.148589134216309, -8.659377098083496, -16.324066162109375, -17.55832290649414, 6.480410099029541, 31.174524307250977, -9.849212646484375, 8.876485824584961, 25.288591384887695, -9.757773399353027, -0.2112339735031128, 36.2806510925293, 24.669172286987305, -7.998272895812988, -4.818826198577881, -14.016992568969727, -12.478437423706055, 26.39421844482422, 22.183818817138672, -7.556576728820801, 32.93328857421875, -6.182796478271484, -13.59729290008545, -7.674780368804932, -10.064885139465332, 2.029481887817383, -7.0646491050720215, 2.8209564685821533, 26.092727661132812, -9.137147903442383, -14.996927261352539, 2.1641650199890137, -6.453408241271973, -11.519039154052734, 1.8227492570877075, 24.0560359954834, -5.100667476654053, -3.9655966758728027, -5.596575736999512, -13.10737133026123, -9.22256088256836, 5.209641456604004, 28.591278076171875, 26.882253646850586, 18.100563049316406, -21.71172332763672, 8.160860061645508, 37.348514556884766, 0.3241937756538391, 17.81884765625, -16.28749656677246, 22.972352981567383, 2.435102939605713, -6.301253318786621, 26.08963394165039, 29.241607666015625, -14.919875144958496, -17.32777214050293, -7.14579963684082, 23.83222007751465, 5.877645015716553, -9.879020690917969, 9.006916999816895, 7.99203634262085, -8.45233154296875, -11.306772232055664, -15.029135704040527, 2.8994929790496826, 9.957072257995605, -17.30231285095215, -1.7587040662765503, -15.524320602416992, -6.539498329162598, 36.8698616027832, -18.851728439331055, -5.789373397827148, -16.433256149291992, -13.80782413482666, 24.613048553466797, 17.841777801513672, 29.549850463867188, -3.8460729122161865, 2.7909812927246094, -1.867841362953186, 29.773649215698242, 25.423192977905273, -7.883637428283691, -15.9246826171875, 0.8281030058860779, 22.932510375976562, -13.440202713012695, -16.127445220947266, 28.7572021484375, -14.64209270477295, -3.4913365840911865, -3.8387539386749268, 3.162611722946167, -16.07027816772461, 17.245773315429688, -4.442483425140381, -12.030938148498535, 1.7066959142684937, 3.998798131942749, -4.1890411376953125, 26.139463424682617, -6.6152238845825195, -5.599869728088379, -14.99599552154541, 29.986173629760742, -6.975162506103516, -10.448421478271484, -12.287484169006348, -7.823965072631836, 3.0520691871643066, 25.116960525512695, -15.659012794494629, -17.36604881286621, -16.181859970092773, 26.63608169555664, 5.528126239776611, 25.4152889251709, 5.235278129577637, 36.829715728759766, -15.767955780029297, -1.832186222076416, 1.3897122144699097, -6.3575615882873535, 4.91289758682251, -13.259506225585938, -9.81864070892334, -1.9475685358047485, -19.38514518737793, -2.0644731521606445, -3.83290433883667, -15.547487258911133, -15.642579078674316, 24.980056762695312, -13.009830474853516, -20.31954574584961, 34.64148712158203, 27.20115852355957, -19.196426391601562, -2.215622901916504, -8.550802230834961, -3.265153169631958, 23.78835678100586, 8.167024612426758, 0.17315466701984406, 37.045249938964844, -13.55933952331543, -15.93649959564209, 33.16281509399414, 24.122591018676758, 17.95651626586914, -16.353870391845703, -16.801658630371094, 17.696271896362305, 39.31819152832031, -4.157177925109863, -4.258837699890137, -8.99943733215332, -19.100439071655273, -12.137617111206055, 24.82777976989746, 37.34647750854492, -1.0925041437149048, -3.9396259784698486, 1.5488351583480835, 0.25649604201316833, -16.48436737060547, 3.1955058574676514, -0.8474370837211609, -4.558232307434082, -2.515753984451294, -19.989328384399414, -0.7226130962371826, 30.259971618652344, -10.158079147338867, 0.08230315893888474, -15.869552612304688, 38.73603820800781, -6.79148006439209, 29.3762149810791, 24.12397575378418, 0.13618093729019165, 32.024314880371094, -14.086000442504883, -8.724421501159668, -16.908262252807617, -21.90854263305664, -6.8059258460998535, -13.415857315063477, -2.8626866340637207, 38.53171157836914, 3.605246067047119, -16.2297420501709, -7.671777248382568, -7.545535564422607, 2.4615848064422607, 9.198016166687012, 25.932146072387695, -17.37660789489746, 6.972787857055664, -5.684963226318359, -13.44273567199707, -12.794305801391602, 27.561574935913086, 26.984895706176758, -2.94622802734375, -15.503091812133789, 28.817474365234375, 24.508346557617188, -11.032841682434082, -22.25300407409668, -18.475942611694336, 38.0399055480957, -7.427979469299316, -15.430384635925293, 21.784282684326172, -5.957313060760498, -0.9355559945106506, 36.18915939331055, -12.23030948638916, 36.391273498535156, 1.929116129875183, -3.4254379272460938, -13.525520324707031, -11.699257850646973, -12.930644989013672, -12.940567970275879, -11.337043762207031, 2.284489870071411, -11.63337516784668, -17.142038345336914, 23.838594436645508, -10.02148151397705, 24.860498428344727, -5.9925737380981445, 2.854370355606079, -16.063274383544922, 9.832547187805176, 37.56718826293945, 0.41758254170417786, -13.812566757202148, 0.931556761264801, 0.9676187634468079, 23.09625244140625, -14.31750202178955, -13.200440406799316, 25.894344329833984, -16.050853729248047, -16.235118865966797, -7.953785419464111, 5.768365859985352, -13.822851181030273, 27.854665756225586, 25.477354049682617, 23.769041061401367, 7.5614471435546875, -11.319219589233398, 26.7924747467041, -4.525932312011719, -10.308158874511719, 7.791233062744141, -8.620615005493164, -10.567705154418945, -17.374204635620117, 23.803836822509766, -17.44331932067871, -7.807387351989746, 24.428922653198242, -13.235815048217773, -17.26802635192871, 6.85231351852417, -17.058027267456055, 1.7377909421920776, -15.496488571166992, -2.7052154541015625, 26.84400177001953, -13.481953620910645, -5.812560081481934, 2.580955982208252, -7.545675277709961, -15.222615242004395, 26.268550872802734, -6.346195697784424, 23.597431182861328, 1.9722594022750854, -12.995844841003418, 37.45243835449219, -10.959866523742676, -12.993106842041016, -10.84146785736084, 36.12135696411133, 3.314650535583496, 35.02959060668945, 23.96761131286621, -5.074072360992432, -11.020782470703125, 26.17481803894043, -14.710018157958984, -15.141213417053223, 2.6550402641296387, -13.272612571716309, -9.680867195129395, -6.794485092163086, -3.258638620376587, 29.28725814819336, -22.125442504882812, 1.7329541444778442, -17.960464477539062, -6.618411064147949, -0.35213011503219604, -7.452158451080322, 24.731822967529297, -7.48475980758667, -15.040484428405762, -20.080398559570312, 18.261272430419922, -14.090936660766602, 23.588979721069336, -5.163389682769775, 37.95271301269531, -12.184301376342773, -4.743852615356445, 22.915224075317383, -12.021965980529785, 2.149705648422241, -16.094846725463867, -13.842692375183105, -14.436537742614746, -6.008073806762695, -18.098129272460938, -8.40699577331543, -4.529141426086426, 24.13882064819336, 8.845355987548828, 7.13356876373291, 25.17281723022461, -13.478057861328125, 28.600034713745117, -16.849109649658203, 31.180587768554688, -14.50355052947998, 2.70746111869812, -3.640909194946289, 4.791021823883057, 0.853029191493988, 4.364199638366699, 22.8590087890625, -3.35573410987854, 18.297565460205078, -7.4130706787109375, 22.988801956176758, -18.15911102294922, -10.182291984558105, 36.82933807373047, -2.308262348175049, -4.720948696136475, -10.18252944946289, -12.676905632019043, -14.794759750366211, -7.8714423179626465, -13.531818389892578, -17.8717098236084, 37.071964263916016, -10.998274803161621], \"xaxis\": \"x\", \"y\": [18.375324249267578, -4.535538673400879, -17.54362678527832, 13.517045974731445, 3.995166540145874, -7.762665748596191, -7.477197647094727, -23.81291389465332, 12.557709693908691, 11.327714920043945, -8.116859436035156, -5.818462371826172, -8.284211158752441, 12.485169410705566, -10.119440078735352, 7.138570785522461, 1.1323055028915405, -18.217144012451172, -12.094605445861816, -12.843067169189453, 17.060033798217773, 0.22272194921970367, -7.909300327301025, -5.520516395568848, -23.839216232299805, -8.492774963378906, 2.3935861587524414, -12.517796516418457, 13.745354652404785, -8.000917434692383, 7.1432576179504395, 1.7679942846298218, 6.620876312255859, 13.454849243164062, -6.726914882659912, -25.4604434967041, -22.501611709594727, 6.324594974517822, 6.130604267120361, -23.121286392211914, -22.25469398498535, -1.2868648767471313, 17.798105239868164, -10.464815139770508, 2.1363351345062256, 15.68880558013916, 5.866697311401367, -10.906813621520996, 12.509353637695312, 15.230006217956543, -9.4287748336792, 0.21983899176120758, -5.130568504333496, -6.539828300476074, 12.135004043579102, 13.560776710510254, -10.210701942443848, 17.762104034423828, -5.477753639221191, -12.097708702087402, 2.8502883911132812, -5.581969738006592, -5.832189559936523, 7.4513139724731445, -9.180927276611328, 14.185688018798828, 6.749770641326904, 0.3744402527809143, 13.593367576599121, 6.181309223175049, -5.173037528991699, 0.9051862955093384, 11.766386032104492, 1.341476559638977, 0.13827882707118988, -9.552627563476562, -21.394411087036133, -12.404206275939941, 7.0080108642578125, 19.93478775024414, 18.31989288330078, 9.417340278625488, -16.2291202545166, -2.0175364017486572, 12.9169340133667, 14.745590209960938, 8.210229873657227, -10.81173324584961, 14.721687316894531, 2.454786777496338, 1.679091215133667, 16.241724014282227, 16.87148094177246, -22.699377059936523, -13.238886833190918, 5.609570503234863, 16.11304473876953, 5.382422924041748, -10.558213233947754, 2.170090913772583, -2.0906929969787598, -14.400634765625, -13.559564590454102, -13.15610408782959, 2.690472364425659, -0.923422634601593, -24.693302154541016, -9.065764427185059, -6.370616436004639, -2.422774314880371, 12.771760940551758, -13.646538734436035, 0.7386084198951721, -25.035593032836914, -18.64319610595703, 9.975407600402832, 9.101089477539062, 17.52821159362793, -12.100049018859863, -8.257888793945312, -9.096159934997559, 18.961406707763672, 13.732558250427246, -3.592167854309082, -26.287376403808594, 12.57889461517334, 18.894269943237305, -12.779950141906738, -20.58344078063965, 16.142431259155273, -12.577880859375, -0.6340091228485107, -9.338226318359375, -7.068692207336426, -1.5124114751815796, 7.4808549880981445, 7.090594291687012, -21.472827911376953, 2.258812427520752, 5.2653069496154785, -5.939277648925781, 17.14191436767578, -4.8829450607299805, -2.0540730953216553, 0.40503403544425964, 19.74332046508789, 5.662089824676514, -13.048318862915039, -5.241445541381836, -0.9008156657218933, 3.016993522644043, 17.29494285583496, -24.038593292236328, -4.087644100189209, -26.34768295288086, 14.901728630065918, 4.828138828277588, 14.878469467163086, 6.988229274749756, 12.264388084411621, -20.85140037536621, 13.562255859375, 14.746112823486328, -5.985609531402588, 6.617040157318115, -17.604829788208008, -15.477853775024414, -10.904417991638184, -24.6796932220459, 12.801992416381836, -7.413153171539307, -25.46320152282715, -12.686100959777832, 10.187860488891602, -18.062768936157227, -22.090429306030273, 16.47110939025879, 19.226648330688477, -22.95528793334961, 12.448602676391602, -13.666838645935059, -5.994677543640137, 17.7661190032959, -1.1479510068893433, 12.991439819335938, 14.41448974609375, -24.682632446289062, -16.87104034423828, 17.745155334472656, 10.927586555480957, 9.111318588256836, -2.8021321296691895, -3.7432100772857666, 8.063520431518555, 12.173501014709473, 1.679007887840271, -9.364104270935059, 0.4102226197719574, -7.604186058044434, -8.192925453186035, 10.764384269714355, 13.718558311462402, -10.970732688903809, -2.1098408699035645, 2.9986934661865234, 12.325608253479004, -26.39892578125, -8.019168853759766, -11.139127731323242, 1.6130913496017456, 12.342392921447754, -22.772621154785156, -10.556595802307129, 19.21916389465332, -6.271653175354004, 12.737292289733887, -21.86865234375, 11.800873756408691, 5.175138473510742, 20.233856201171875, 16.21744155883789, 12.168943405151367, 15.315181732177734, -5.363466262817383, 0.9807595610618591, -23.184362411499023, -17.54456329345703, -8.652676582336426, -16.153621673583984, -11.136652946472168, 13.148892402648926, 4.84486722946167, -1.7723833322525024, -3.6894447803497314, 7.426571369171143, 3.225726366043091, 2.459146022796631, 15.399396896362305, -14.939688682556152, -1.4668117761611938, -8.454684257507324, -15.200071334838867, -16.975967407226562, 15.294234275817871, 18.00884437561035, -7.238170146942139, -8.421703338623047, 17.06260108947754, 14.443546295166016, -3.739806652069092, -16.357255935668945, -23.196714401245117, 11.598590850830078, -10.235607147216797, -25.19394302368164, 15.32227897644043, 6.76354455947876, -10.190532684326172, 11.663576126098633, -4.221141338348389, 14.305791854858398, 3.0408737659454346, -11.627706527709961, -24.600927352905273, -4.09099006652832, -11.934930801391602, -0.4765916168689728, 7.607918739318848, -9.299532890319824, -5.887435436248779, -24.856082916259766, 15.146821975708008, 7.4746623039245605, 14.40900993347168, -3.731149435043335, -7.5800700187683105, -20.360397338867188, -0.8666144013404846, 12.216381072998047, 13.216444969177246, -13.253205299377441, 12.14478874206543, 11.847687721252441, 11.110595703125, 1.1988450288772583, -7.426304817199707, 11.432907104492188, -14.609416007995605, -23.98233413696289, 6.930832386016846, 4.625639915466309, -24.475908279418945, 16.113405227661133, 10.39887523651123, 17.94837188720703, -0.9602051973342896, -18.57312774658203, 17.638954162597656, 6.974071979522705, -6.718693733215332, -2.0767228603363037, -0.9724774360656738, 2.3712093830108643, -4.417111396789551, 13.487241744995117, -12.70961856842041, 1.1758325099945068, 12.269543647766113, -19.297832489013672, -15.00171947479248, -2.2026383876800537, -22.678110122680664, 0.15608231723308563, -7.854482650756836, -1.9023329019546509, 15.729170799255371, -21.22452163696289, -1.322309970855713, -7.189491271972656, 5.0107879638671875, -16.823720932006836, 18.081859588623047, -7.120465278625488, 15.70285415649414, 13.89457893371582, -1.1117193698883057, 11.563729286193848, -14.22965145111084, -4.799782752990723, 7.952926158905029, 13.094281196594238, -7.7313408851623535, 16.06033706665039, 18.916976928710938, -6.514836311340332, -6.435238838195801, 13.198643684387207, -17.447677612304688, -11.433767318725586, -7.7361555099487305, -15.500978469848633, -4.5061235427856445, -1.009381890296936, -8.201491355895996, 19.184463500976562, -15.69958782196045, -0.048143062740564346, -7.913996696472168, 1.229623556137085, 11.634970664978027, -13.865846633911133, 11.891587257385254, -1.8751059770584106, -18.20078468322754, -21.37458610534668, 9.287549018859863, -15.437442779541016, 14.02876091003418, -4.655836582183838, 12.312581062316895, -20.39561653137207, 5.782634258270264, 13.191609382629395, -19.909852981567383, 2.3031389713287354, -12.791017532348633, 1.4775032997131348, -20.826988220214844, -3.785069227218628, -13.361869812011719, 6.364421367645264, -1.9444125890731812, 13.713236808776855, -0.23877571523189545, -3.7396976947784424, 15.642476081848145, -20.88323211669922, 19.094972610473633, -4.621357440948486, 16.893665313720703, -20.11355209350586, -9.536966323852539, -2.7127668857574463, 6.022308349609375, 11.511640548706055, 5.4228057861328125, 13.928215026855469, -10.157820701599121, 8.68865966796875, -6.301043510437012, 16.171262741088867, -7.916884899139404, 0.33073198795318604, 13.601653099060059, 12.381547927856445, 5.780968189239502, 5.950206279754639, -20.081707000732422, -6.444028377532959, 4.985711097717285, -4.034056663513184, -23.8909854888916, 11.377392768859863, 8.84381103515625], \"yaxis\": \"y\"}],\n",
       "                        {\"legend\": {\"tracegroupgap\": 0}, \"margin\": {\"t\": 60}, \"template\": {\"data\": {\"bar\": [{\"error_x\": {\"color\": \"#2a3f5f\"}, \"error_y\": {\"color\": \"#2a3f5f\"}, \"marker\": {\"line\": {\"color\": \"#E5ECF6\", \"width\": 0.5}}, \"type\": \"bar\"}], \"barpolar\": [{\"marker\": {\"line\": {\"color\": \"#E5ECF6\", \"width\": 0.5}}, \"type\": \"barpolar\"}], \"carpet\": [{\"aaxis\": {\"endlinecolor\": \"#2a3f5f\", \"gridcolor\": \"white\", \"linecolor\": \"white\", \"minorgridcolor\": \"white\", \"startlinecolor\": \"#2a3f5f\"}, \"baxis\": {\"endlinecolor\": \"#2a3f5f\", \"gridcolor\": \"white\", \"linecolor\": \"white\", \"minorgridcolor\": \"white\", \"startlinecolor\": \"#2a3f5f\"}, \"type\": \"carpet\"}], \"choropleth\": [{\"colorbar\": {\"outlinewidth\": 0, \"ticks\": \"\"}, \"type\": \"choropleth\"}], \"contour\": [{\"colorbar\": {\"outlinewidth\": 0, \"ticks\": \"\"}, \"colorscale\": [[0.0, \"#0d0887\"], [0.1111111111111111, \"#46039f\"], [0.2222222222222222, \"#7201a8\"], [0.3333333333333333, \"#9c179e\"], [0.4444444444444444, \"#bd3786\"], [0.5555555555555556, \"#d8576b\"], [0.6666666666666666, \"#ed7953\"], [0.7777777777777778, \"#fb9f3a\"], [0.8888888888888888, \"#fdca26\"], [1.0, \"#f0f921\"]], \"type\": \"contour\"}], \"contourcarpet\": [{\"colorbar\": {\"outlinewidth\": 0, \"ticks\": \"\"}, \"type\": \"contourcarpet\"}], \"heatmap\": [{\"colorbar\": {\"outlinewidth\": 0, \"ticks\": \"\"}, \"colorscale\": [[0.0, \"#0d0887\"], [0.1111111111111111, \"#46039f\"], [0.2222222222222222, \"#7201a8\"], [0.3333333333333333, \"#9c179e\"], [0.4444444444444444, \"#bd3786\"], [0.5555555555555556, \"#d8576b\"], [0.6666666666666666, \"#ed7953\"], [0.7777777777777778, \"#fb9f3a\"], [0.8888888888888888, \"#fdca26\"], [1.0, \"#f0f921\"]], \"type\": \"heatmap\"}], \"heatmapgl\": [{\"colorbar\": {\"outlinewidth\": 0, \"ticks\": \"\"}, \"colorscale\": [[0.0, \"#0d0887\"], [0.1111111111111111, \"#46039f\"], [0.2222222222222222, \"#7201a8\"], [0.3333333333333333, \"#9c179e\"], [0.4444444444444444, \"#bd3786\"], [0.5555555555555556, \"#d8576b\"], [0.6666666666666666, \"#ed7953\"], [0.7777777777777778, \"#fb9f3a\"], [0.8888888888888888, \"#fdca26\"], [1.0, \"#f0f921\"]], \"type\": \"heatmapgl\"}], \"histogram\": [{\"marker\": {\"colorbar\": {\"outlinewidth\": 0, \"ticks\": \"\"}}, \"type\": \"histogram\"}], \"histogram2d\": [{\"colorbar\": {\"outlinewidth\": 0, \"ticks\": \"\"}, \"colorscale\": [[0.0, \"#0d0887\"], [0.1111111111111111, \"#46039f\"], [0.2222222222222222, \"#7201a8\"], [0.3333333333333333, \"#9c179e\"], [0.4444444444444444, \"#bd3786\"], [0.5555555555555556, \"#d8576b\"], [0.6666666666666666, \"#ed7953\"], [0.7777777777777778, \"#fb9f3a\"], [0.8888888888888888, \"#fdca26\"], [1.0, \"#f0f921\"]], \"type\": \"histogram2d\"}], \"histogram2dcontour\": [{\"colorbar\": {\"outlinewidth\": 0, \"ticks\": \"\"}, \"colorscale\": [[0.0, \"#0d0887\"], [0.1111111111111111, \"#46039f\"], [0.2222222222222222, \"#7201a8\"], [0.3333333333333333, \"#9c179e\"], [0.4444444444444444, \"#bd3786\"], [0.5555555555555556, \"#d8576b\"], [0.6666666666666666, \"#ed7953\"], [0.7777777777777778, \"#fb9f3a\"], [0.8888888888888888, \"#fdca26\"], [1.0, \"#f0f921\"]], \"type\": \"histogram2dcontour\"}], \"mesh3d\": [{\"colorbar\": {\"outlinewidth\": 0, \"ticks\": \"\"}, \"type\": \"mesh3d\"}], \"parcoords\": [{\"line\": {\"colorbar\": {\"outlinewidth\": 0, \"ticks\": \"\"}}, \"type\": \"parcoords\"}], \"pie\": [{\"automargin\": true, \"type\": \"pie\"}], \"scatter\": [{\"marker\": {\"colorbar\": {\"outlinewidth\": 0, \"ticks\": \"\"}}, \"type\": \"scatter\"}], \"scatter3d\": [{\"line\": {\"colorbar\": {\"outlinewidth\": 0, \"ticks\": \"\"}}, \"marker\": {\"colorbar\": {\"outlinewidth\": 0, \"ticks\": \"\"}}, \"type\": \"scatter3d\"}], \"scattercarpet\": [{\"marker\": {\"colorbar\": {\"outlinewidth\": 0, \"ticks\": \"\"}}, \"type\": \"scattercarpet\"}], \"scattergeo\": [{\"marker\": {\"colorbar\": {\"outlinewidth\": 0, \"ticks\": \"\"}}, \"type\": \"scattergeo\"}], \"scattergl\": [{\"marker\": {\"colorbar\": {\"outlinewidth\": 0, \"ticks\": \"\"}}, \"type\": \"scattergl\"}], \"scattermapbox\": [{\"marker\": {\"colorbar\": {\"outlinewidth\": 0, \"ticks\": \"\"}}, \"type\": \"scattermapbox\"}], \"scatterpolar\": [{\"marker\": {\"colorbar\": {\"outlinewidth\": 0, \"ticks\": \"\"}}, \"type\": \"scatterpolar\"}], \"scatterpolargl\": [{\"marker\": {\"colorbar\": {\"outlinewidth\": 0, \"ticks\": \"\"}}, \"type\": \"scatterpolargl\"}], \"scatterternary\": [{\"marker\": {\"colorbar\": {\"outlinewidth\": 0, \"ticks\": \"\"}}, \"type\": \"scatterternary\"}], \"surface\": [{\"colorbar\": {\"outlinewidth\": 0, \"ticks\": \"\"}, \"colorscale\": [[0.0, \"#0d0887\"], [0.1111111111111111, \"#46039f\"], [0.2222222222222222, \"#7201a8\"], [0.3333333333333333, \"#9c179e\"], [0.4444444444444444, \"#bd3786\"], [0.5555555555555556, \"#d8576b\"], [0.6666666666666666, \"#ed7953\"], [0.7777777777777778, \"#fb9f3a\"], [0.8888888888888888, \"#fdca26\"], [1.0, \"#f0f921\"]], \"type\": \"surface\"}], \"table\": [{\"cells\": {\"fill\": {\"color\": \"#EBF0F8\"}, \"line\": {\"color\": \"white\"}}, \"header\": {\"fill\": {\"color\": \"#C8D4E3\"}, \"line\": {\"color\": \"white\"}}, \"type\": \"table\"}]}, \"layout\": {\"annotationdefaults\": {\"arrowcolor\": \"#2a3f5f\", \"arrowhead\": 0, \"arrowwidth\": 1}, \"coloraxis\": {\"colorbar\": {\"outlinewidth\": 0, \"ticks\": \"\"}}, \"colorscale\": {\"diverging\": [[0, \"#8e0152\"], [0.1, \"#c51b7d\"], [0.2, \"#de77ae\"], [0.3, \"#f1b6da\"], [0.4, \"#fde0ef\"], [0.5, \"#f7f7f7\"], [0.6, \"#e6f5d0\"], [0.7, \"#b8e186\"], [0.8, \"#7fbc41\"], [0.9, \"#4d9221\"], [1, \"#276419\"]], \"sequential\": [[0.0, \"#0d0887\"], [0.1111111111111111, \"#46039f\"], [0.2222222222222222, \"#7201a8\"], [0.3333333333333333, \"#9c179e\"], [0.4444444444444444, \"#bd3786\"], [0.5555555555555556, \"#d8576b\"], [0.6666666666666666, \"#ed7953\"], [0.7777777777777778, \"#fb9f3a\"], [0.8888888888888888, \"#fdca26\"], [1.0, \"#f0f921\"]], \"sequentialminus\": [[0.0, \"#0d0887\"], [0.1111111111111111, \"#46039f\"], [0.2222222222222222, \"#7201a8\"], [0.3333333333333333, \"#9c179e\"], [0.4444444444444444, \"#bd3786\"], [0.5555555555555556, \"#d8576b\"], [0.6666666666666666, \"#ed7953\"], [0.7777777777777778, \"#fb9f3a\"], [0.8888888888888888, \"#fdca26\"], [1.0, \"#f0f921\"]]}, \"colorway\": [\"#636efa\", \"#EF553B\", \"#00cc96\", \"#ab63fa\", \"#FFA15A\", \"#19d3f3\", \"#FF6692\", \"#B6E880\", \"#FF97FF\", \"#FECB52\"], \"font\": {\"color\": \"#2a3f5f\"}, \"geo\": {\"bgcolor\": \"white\", \"lakecolor\": \"white\", \"landcolor\": \"#E5ECF6\", \"showlakes\": true, \"showland\": true, \"subunitcolor\": \"white\"}, \"hoverlabel\": {\"align\": \"left\"}, \"hovermode\": \"closest\", \"mapbox\": {\"style\": \"light\"}, \"paper_bgcolor\": \"white\", \"plot_bgcolor\": \"#E5ECF6\", \"polar\": {\"angularaxis\": {\"gridcolor\": \"white\", \"linecolor\": \"white\", \"ticks\": \"\"}, \"bgcolor\": \"#E5ECF6\", \"radialaxis\": {\"gridcolor\": \"white\", \"linecolor\": \"white\", \"ticks\": \"\"}}, \"scene\": {\"xaxis\": {\"backgroundcolor\": \"#E5ECF6\", \"gridcolor\": \"white\", \"gridwidth\": 2, \"linecolor\": \"white\", \"showbackground\": true, \"ticks\": \"\", \"zerolinecolor\": \"white\"}, \"yaxis\": {\"backgroundcolor\": \"#E5ECF6\", \"gridcolor\": \"white\", \"gridwidth\": 2, \"linecolor\": \"white\", \"showbackground\": true, \"ticks\": \"\", \"zerolinecolor\": \"white\"}, \"zaxis\": {\"backgroundcolor\": \"#E5ECF6\", \"gridcolor\": \"white\", \"gridwidth\": 2, \"linecolor\": \"white\", \"showbackground\": true, \"ticks\": \"\", \"zerolinecolor\": \"white\"}}, \"shapedefaults\": {\"line\": {\"color\": \"#2a3f5f\"}}, \"ternary\": {\"aaxis\": {\"gridcolor\": \"white\", \"linecolor\": \"white\", \"ticks\": \"\"}, \"baxis\": {\"gridcolor\": \"white\", \"linecolor\": \"white\", \"ticks\": \"\"}, \"bgcolor\": \"#E5ECF6\", \"caxis\": {\"gridcolor\": \"white\", \"linecolor\": \"white\", \"ticks\": \"\"}}, \"title\": {\"x\": 0.05}, \"xaxis\": {\"automargin\": true, \"gridcolor\": \"white\", \"linecolor\": \"white\", \"ticks\": \"\", \"title\": {\"standoff\": 15}, \"zerolinecolor\": \"white\", \"zerolinewidth\": 2}, \"yaxis\": {\"automargin\": true, \"gridcolor\": \"white\", \"linecolor\": \"white\", \"ticks\": \"\", \"title\": {\"standoff\": 15}, \"zerolinecolor\": \"white\", \"zerolinewidth\": 2}}}, \"xaxis\": {\"anchor\": \"y\", \"domain\": [0.0, 1.0], \"title\": {\"text\": \"x\"}}, \"yaxis\": {\"anchor\": \"x\", \"domain\": [0.0, 1.0], \"title\": {\"text\": \"y\"}}},\n",
       "                        {\"responsive\": true}\n",
       "                    ).then(function(){\n",
       "                            \n",
       "var gd = document.getElementById('6375fa71-1e44-41da-9dd5-e7814cba5715');\n",
       "var x = new MutationObserver(function (mutations, observer) {{\n",
       "        var display = window.getComputedStyle(gd).display;\n",
       "        if (!display || display === 'none') {{\n",
       "            console.log([gd, 'removed!']);\n",
       "            Plotly.purge(gd);\n",
       "            observer.disconnect();\n",
       "        }}\n",
       "}});\n",
       "\n",
       "// Listen for the removal of the full notebook cells\n",
       "var notebookContainer = gd.closest('#notebook-container');\n",
       "if (notebookContainer) {{\n",
       "    x.observe(notebookContainer, {childList: true});\n",
       "}}\n",
       "\n",
       "// Listen for the clearing of the current output cell\n",
       "var outputEl = gd.closest('.output');\n",
       "if (outputEl) {{\n",
       "    x.observe(outputEl, {childList: true});\n",
       "}}\n",
       "\n",
       "                        })\n",
       "                };\n",
       "                });\n",
       "            </script>\n",
       "        </div>"
      ]
     },
     "metadata": {},
     "output_type": "display_data"
    }
   ],
   "source": [
    "import plotly.express as px\n",
    "px.scatter(X_train_tsne, X_train_tsne[:, 0], X_train_tsne[:, 1])"
   ]
  },
  {
   "cell_type": "markdown",
   "metadata": {},
   "source": [
    "### Задание 2"
   ]
  },
  {
   "cell_type": "markdown",
   "metadata": {},
   "source": [
    "- С помощью KMeans разбейте данные из тренировочного набора на 3 кластера, используйте все признаки из датафрейма X_train. Параметр max_iter должен быть равен 100, random_state сделайте равным 42.\n",
    "- Постройте еще раз диаграмму рассеяния на данных, полученных с помощью TSNE, и раскрасьте точки из разных кластеров разными цветами.\n",
    "- Вычислите средние значения price и CRIM в разных кластерах."
   ]
  },
  {
   "cell_type": "code",
   "execution_count": 63,
   "metadata": {},
   "outputs": [
    {
     "data": {
      "image/png": "[encoded data removed]",
      "text/plain": [
       "<Figure size 432x288 with 1 Axes>"
      ]
     },
     "metadata": {},
     "output_type": "display_data"
    },
    {
     "data": {
      "application/vnd.plotly.v1+json": {
       "config": {
        "plotlyServerURL": "https://plot.ly"
       },
       "data": [
        {
         "hoverlabel": {
          "namelength": 0
         },
         "hovertemplate": "x=%{x}<br>y=%{y}<br>color=%{marker.color}",
         "legendgroup": "",
         "marker": {
          "color": [
           1,
           0,
           2,
           1,
           0,
           0,
           0,
           2,
           1,
           1,
           0,
           0,
           0,
           1,
           0,
           0,
           0,
           2,
           0,
           2,
           1,
           0,
           2,
           0,
           2,
           0,
           1,
           2,
           0,
           2,
           0,
           0,
           1,
           1,
           0,
           2,
           2,
           0,
           0,
           2,
           2,
           0,
           1,
           0,
           1,
           1,
           0,
           0,
           1,
           1,
           0,
           0,
           0,
           0,
           1,
           1,
           0,
           1,
           0,
           0,
           0,
           0,
           0,
           0,
           0,
           1,
           0,
           0,
           1,
           0,
           0,
           0,
           1,
           0,
           0,
           0,
           2,
           0,
           1,
           1,
           1,
           1,
           2,
           0,
           1,
           1,
           1,
           2,
           1,
           0,
           0,
           1,
           1,
           2,
           2,
           0,
           1,
           1,
           0,
           1,
           0,
           2,
           2,
           2,
           0,
           0,
           2,
           0,
           0,
           0,
           1,
           2,
           0,
           2,
           2,
           1,
           1,
           1,
           0,
           0,
           0,
           1,
           1,
           0,
           2,
           1,
           1,
           2,
           2,
           1,
           2,
           0,
           0,
           0,
           0,
           1,
           0,
           2,
           0,
           1,
           0,
           1,
           0,
           0,
           0,
           1,
           0,
           0,
           0,
           0,
           0,
           1,
           2,
           0,
           2,
           1,
           1,
           1,
           1,
           1,
           2,
           0,
           1,
           0,
           1,
           2,
           2,
           0,
           2,
           0,
           0,
           2,
           2,
           1,
           2,
           2,
           1,
           1,
           2,
           0,
           0,
           0,
           1,
           0,
           1,
           1,
           2,
           2,
           1,
           1,
           1,
           0,
           0,
           1,
           1,
           0,
           0,
           0,
           0,
           0,
           1,
           1,
           0,
           0,
           0,
           1,
           2,
           0,
           0,
           0,
           0,
           2,
           0,
           1,
           0,
           1,
           2,
           1,
           0,
           1,
           1,
           1,
           1,
           0,
           0,
           2,
           2,
           0,
           2,
           0,
           1,
           0,
           0,
           0,
           0,
           0,
           1,
           1,
           2,
           0,
           0,
           2,
           2,
           1,
           1,
           0,
           2,
           1,
           1,
           0,
           2,
           2,
           1,
           0,
           2,
           1,
           0,
           0,
           1,
           0,
           1,
           0,
           0,
           2,
           0,
           0,
           0,
           0,
           0,
           0,
           2,
           1,
           0,
           1,
           0,
           0,
           2,
           0,
           1,
           1,
           2,
           1,
           0,
           1,
           0,
           0,
           1,
           2,
           2,
           0,
           1,
           2,
           1,
           1,
           1,
           0,
           2,
           1,
           0,
           0,
           0,
           0,
           0,
           0,
           1,
           2,
           0,
           1,
           2,
           2,
           0,
           2,
           0,
           2,
           0,
           1,
           2,
           0,
           0,
           0,
           2,
           1,
           0,
           1,
           1,
           0,
           1,
           2,
           0,
           0,
           1,
           0,
           1,
           1,
           0,
           0,
           1,
           2,
           0,
           0,
           2,
           0,
           0,
           0,
           1,
           0,
           0,
           0,
           0,
           1,
           0,
           1,
           0,
           2,
           2,
           1,
           2,
           1,
           0,
           1,
           2,
           0,
           1,
           2,
           0,
           2,
           0,
           2,
           0,
           2,
           0,
           0,
           1,
           0,
           2,
           1,
           2,
           1,
           0,
           1,
           2,
           0,
           0,
           1,
           0,
           1,
           1,
           0,
           1,
           0,
           1,
           0,
           0,
           1,
           0,
           0,
           0,
           2,
           0,
           0,
           0,
           2,
           1,
           0
          ],
          "coloraxis": "coloraxis",
          "symbol": "circle"
         },
         "mode": "markers",
         "name": "",
         "showlegend": false,
         "type": "scatter",
         "x": [
          28.138090133666992,
          -9.785577774047852,
          -15.69575309753418,
          37.92485427856445,
          -8.786393165588379,
          -13.98817253112793,
          -11.960750579833984,
          -18.704307556152344,
          38.66581344604492,
          35.53425979614258,
          -12.056244850158691,
          -5.740067481994629,
          -2.027515411376953,
          35.761878967285156,
          -2.296684503555298,
          -10.22756576538086,
          -7.261146068572998,
          -14.4019775390625,
          -13.338248252868652,
          -17.165924072265625,
          34.027828216552734,
          -4.423198699951172,
          -15.497815132141113,
          -10.733388900756836,
          -18.339698791503906,
          -3.087924003601074,
          8.299799919128418,
          -1.5845332145690918,
          -1.7503095865249634,
          -17.836658477783203,
          -8.456023216247559,
          -3.9704554080963135,
          5.307853698730469,
          35.637428283691406,
          -11.57609748840332,
          -17.734853744506836,
          -15.124906539916992,
          -9.148589134216309,
          -8.659377098083496,
          -16.324066162109375,
          -17.55832290649414,
          6.480410099029541,
          31.174524307250977,
          -9.849212646484375,
          8.876485824584961,
          25.288591384887695,
          -9.757773399353027,
          -0.2112339735031128,
          36.2806510925293,
          24.669172286987305,
          -7.998272895812988,
          -4.818826198577881,
          -14.016992568969727,
          -12.478437423706055,
          26.39421844482422,
          22.183818817138672,
          -7.556576728820801,
          32.93328857421875,
          -6.182796478271484,
          -13.59729290008545,
          -7.674780368804932,
          -10.064885139465332,
          2.029481887817383,
          -7.0646491050720215,
          2.8209564685821533,
          26.092727661132812,
          -9.137147903442383,
          -14.996927261352539,
          2.1641650199890137,
          -6.453408241271973,
          -11.519039154052734,
          1.8227492570877075,
          24.0560359954834,
          -5.100667476654053,
          -3.9655966758728027,
          -5.596575736999512,
          -13.10737133026123,
          -9.22256088256836,
          5.209641456604004,
          28.591278076171875,
          26.882253646850586,
          18.100563049316406,
          -21.71172332763672,
          8.160860061645508,
          37.348514556884766,
          0.3241937756538391,
          17.81884765625,
          -16.28749656677246,
          22.972352981567383,
          2.435102939605713,
          -6.301253318786621,
          26.08963394165039,
          29.241607666015625,
          -14.919875144958496,
          -17.32777214050293,
          -7.14579963684082,
          23.83222007751465,
          5.877645015716553,
          -9.879020690917969,
          9.006916999816895,
          7.99203634262085,
          -8.45233154296875,
          -11.306772232055664,
          -15.029135704040527,
          2.8994929790496826,
          9.957072257995605,
          -17.30231285095215,
          -1.7587040662765503,
          -15.524320602416992,
          -6.539498329162598,
          36.8698616027832,
          -18.851728439331055,
          -5.789373397827148,
          -16.433256149291992,
          -13.80782413482666,
          24.613048553466797,
          17.841777801513672,
          29.549850463867188,
          -3.8460729122161865,
          2.7909812927246094,
          -1.867841362953186,
          29.773649215698242,
          25.423192977905273,
          -7.883637428283691,
          -15.9246826171875,
          0.8281030058860779,
          22.932510375976562,
          -13.440202713012695,
          -16.127445220947266,
          28.7572021484375,
          -14.64209270477295,
          -3.4913365840911865,
          -3.8387539386749268,
          3.162611722946167,
          -16.07027816772461,
          17.245773315429688,
          -4.442483425140381,
          -12.030938148498535,
          1.7066959142684937,
          3.998798131942749,
          -4.1890411376953125,
          26.139463424682617,
          -6.6152238845825195,
          -5.599869728088379,
          -14.99599552154541,
          29.986173629760742,
          -6.975162506103516,
          -10.448421478271484,
          -12.287484169006348,
          -7.823965072631836,
          3.0520691871643066,
          25.116960525512695,
          -15.659012794494629,
          -17.36604881286621,
          -16.181859970092773,
          26.63608169555664,
          5.528126239776611,
          25.4152889251709,
          5.235278129577637,
          36.829715728759766,
          -15.767955780029297,
          -1.832186222076416,
          1.3897122144699097,
          -6.3575615882873535,
          4.91289758682251,
          -13.259506225585938,
          -9.81864070892334,
          -1.9475685358047485,
          -19.38514518737793,
          -2.0644731521606445,
          -3.83290433883667,
          -15.547487258911133,
          -15.642579078674316,
          24.980056762695312,
          -13.009830474853516,
          -20.31954574584961,
          34.64148712158203,
          27.20115852355957,
          -19.196426391601562,
          -2.215622901916504,
          -8.550802230834961,
          -3.265153169631958,
          23.78835678100586,
          8.167024612426758,
          0.17315466701984406,
          37.045249938964844,
          -13.55933952331543,
          -15.93649959564209,
          33.16281509399414,
          24.122591018676758,
          17.95651626586914,
          -16.353870391845703,
          -16.801658630371094,
          17.696271896362305,
          39.31819152832031,
          -4.157177925109863,
          -4.258837699890137,
          -8.99943733215332,
          -19.100439071655273,
          -12.137617111206055,
          24.82777976989746,
          37.34647750854492,
          -1.0925041437149048,
          -3.9396259784698486,
          1.5488351583480835,
          0.25649604201316833,
          -16.48436737060547,
          3.1955058574676514,
          -0.8474370837211609,
          -4.558232307434082,
          -2.515753984451294,
          -19.989328384399414,
          -0.7226130962371826,
          30.259971618652344,
          -10.158079147338867,
          0.08230315893888474,
          -15.869552612304688,
          38.73603820800781,
          -6.79148006439209,
          29.3762149810791,
          24.12397575378418,
          0.13618093729019165,
          32.024314880371094,
          -14.086000442504883,
          -8.724421501159668,
          -16.908262252807617,
          -21.90854263305664,
          -6.8059258460998535,
          -13.415857315063477,
          -2.8626866340637207,
          38.53171157836914,
          3.605246067047119,
          -16.2297420501709,
          -7.671777248382568,
          -7.545535564422607,
          2.4615848064422607,
          9.198016166687012,
          25.932146072387695,
          -17.37660789489746,
          6.972787857055664,
          -5.684963226318359,
          -13.44273567199707,
          -12.794305801391602,
          27.561574935913086,
          26.984895706176758,
          -2.94622802734375,
          -15.503091812133789,
          28.817474365234375,
          24.508346557617188,
          -11.032841682434082,
          -22.25300407409668,
          -18.475942611694336,
          38.0399055480957,
          -7.427979469299316,
          -15.430384635925293,
          21.784282684326172,
          -5.957313060760498,
          -0.9355559945106506,
          36.18915939331055,
          -12.23030948638916,
          36.391273498535156,
          1.929116129875183,
          -3.4254379272460938,
          -13.525520324707031,
          -11.699257850646973,
          -12.930644989013672,
          -12.940567970275879,
          -11.337043762207031,
          2.284489870071411,
          -11.63337516784668,
          -17.142038345336914,
          23.838594436645508,
          -10.02148151397705,
          24.860498428344727,
          -5.9925737380981445,
          2.854370355606079,
          -16.063274383544922,
          9.832547187805176,
          37.56718826293945,
          0.41758254170417786,
          -13.812566757202148,
          0.931556761264801,
          0.9676187634468079,
          23.09625244140625,
          -14.31750202178955,
          -13.200440406799316,
          25.894344329833984,
          -16.050853729248047,
          -16.235118865966797,
          -7.953785419464111,
          5.768365859985352,
          -13.822851181030273,
          27.854665756225586,
          25.477354049682617,
          23.769041061401367,
          7.5614471435546875,
          -11.319219589233398,
          26.7924747467041,
          -4.525932312011719,
          -10.308158874511719,
          7.791233062744141,
          -8.620615005493164,
          -10.567705154418945,
          -17.374204635620117,
          23.803836822509766,
          -17.44331932067871,
          -7.807387351989746,
          24.428922653198242,
          -13.235815048217773,
          -17.26802635192871,
          6.85231351852417,
          -17.058027267456055,
          1.7377909421920776,
          -15.496488571166992,
          -2.7052154541015625,
          26.84400177001953,
          -13.481953620910645,
          -5.812560081481934,
          2.580955982208252,
          -7.545675277709961,
          -15.222615242004395,
          26.268550872802734,
          -6.346195697784424,
          23.597431182861328,
          1.9722594022750854,
          -12.995844841003418,
          37.45243835449219,
          -10.959866523742676,
          -12.993106842041016,
          -10.84146785736084,
          36.12135696411133,
          3.314650535583496,
          35.02959060668945,
          23.96761131286621,
          -5.074072360992432,
          -11.020782470703125,
          26.17481803894043,
          -14.710018157958984,
          -15.141213417053223,
          2.6550402641296387,
          -13.272612571716309,
          -9.680867195129395,
          -6.794485092163086,
          -3.258638620376587,
          29.28725814819336,
          -22.125442504882812,
          1.7329541444778442,
          -17.960464477539062,
          -6.618411064147949,
          -0.35213011503219604,
          -7.452158451080322,
          24.731822967529297,
          -7.48475980758667,
          -15.040484428405762,
          -20.080398559570312,
          18.261272430419922,
          -14.090936660766602,
          23.588979721069336,
          -5.163389682769775,
          37.95271301269531,
          -12.184301376342773,
          -4.743852615356445,
          22.915224075317383,
          -12.021965980529785,
          2.149705648422241,
          -16.094846725463867,
          -13.842692375183105,
          -14.436537742614746,
          -6.008073806762695,
          -18.098129272460938,
          -8.40699577331543,
          -4.529141426086426,
          24.13882064819336,
          8.845355987548828,
          7.13356876373291,
          25.17281723022461,
          -13.478057861328125,
          28.600034713745117,
          -16.849109649658203,
          31.180587768554688,
          -14.50355052947998,
          2.70746111869812,
          -3.640909194946289,
          4.791021823883057,
          0.853029191493988,
          4.364199638366699,
          22.8590087890625,
          -3.35573410987854,
          18.297565460205078,
          -7.4130706787109375,
          22.988801956176758,
          -18.15911102294922,
          -10.182291984558105,
          36.82933807373047,
          -2.308262348175049,
          -4.720948696136475,
          -10.18252944946289,
          -12.676905632019043,
          -14.794759750366211,
          -7.8714423179626465,
          -13.531818389892578,
          -17.8717098236084,
          37.071964263916016,
          -10.998274803161621
         ],
         "xaxis": "x",
         "y": [
          18.375324249267578,
          -4.535538673400879,
          -17.54362678527832,
          13.517045974731445,
          3.995166540145874,
          -7.762665748596191,
          -7.477197647094727,
          -23.81291389465332,
          12.557709693908691,
          11.327714920043945,
          -8.116859436035156,
          -5.818462371826172,
          -8.284211158752441,
          12.485169410705566,
          -10.119440078735352,
          7.138570785522461,
          1.1323055028915405,
          -18.217144012451172,
          -12.094605445861816,
          -12.843067169189453,
          17.060033798217773,
          0.22272194921970367,
          -7.909300327301025,
          -5.520516395568848,
          -23.839216232299805,
          -8.492774963378906,
          2.3935861587524414,
          -12.517796516418457,
          13.745354652404785,
          -8.000917434692383,
          7.1432576179504395,
          1.7679942846298218,
          6.620876312255859,
          13.454849243164062,
          -6.726914882659912,
          -25.4604434967041,
          -22.501611709594727,
          6.324594974517822,
          6.130604267120361,
          -23.121286392211914,
          -22.25469398498535,
          -1.2868648767471313,
          17.798105239868164,
          -10.464815139770508,
          2.1363351345062256,
          15.68880558013916,
          5.866697311401367,
          -10.906813621520996,
          12.509353637695312,
          15.230006217956543,
          -9.4287748336792,
          0.21983899176120758,
          -5.130568504333496,
          -6.539828300476074,
          12.135004043579102,
          13.560776710510254,
          -10.210701942443848,
          17.762104034423828,
          -5.477753639221191,
          -12.097708702087402,
          2.8502883911132812,
          -5.581969738006592,
          -5.832189559936523,
          7.4513139724731445,
          -9.180927276611328,
          14.185688018798828,
          6.749770641326904,
          0.3744402527809143,
          13.593367576599121,
          6.181309223175049,
          -5.173037528991699,
          0.9051862955093384,
          11.766386032104492,
          1.341476559638977,
          0.13827882707118988,
          -9.552627563476562,
          -21.394411087036133,
          -12.404206275939941,
          7.0080108642578125,
          19.93478775024414,
          18.31989288330078,
          9.417340278625488,
          -16.2291202545166,
          -2.0175364017486572,
          12.9169340133667,
          14.745590209960938,
          8.210229873657227,
          -10.81173324584961,
          14.721687316894531,
          2.454786777496338,
          1.679091215133667,
          16.241724014282227,
          16.87148094177246,
          -22.699377059936523,
          -13.238886833190918,
          5.609570503234863,
          16.11304473876953,
          5.382422924041748,
          -10.558213233947754,
          2.170090913772583,
          -2.0906929969787598,
          -14.400634765625,
          -13.559564590454102,
          -13.15610408782959,
          2.690472364425659,
          -0.923422634601593,
          -24.693302154541016,
          -9.065764427185059,
          -6.370616436004639,
          -2.422774314880371,
          12.771760940551758,
          -13.646538734436035,
          0.7386084198951721,
          -25.035593032836914,
          -18.64319610595703,
          9.975407600402832,
          9.101089477539062,
          17.52821159362793,
          -12.100049018859863,
          -8.257888793945312,
          -9.096159934997559,
          18.961406707763672,
          13.732558250427246,
          -3.592167854309082,
          -26.287376403808594,
          12.57889461517334,
          18.894269943237305,
          -12.779950141906738,
          -20.58344078063965,
          16.142431259155273,
          -12.577880859375,
          -0.6340091228485107,
          -9.338226318359375,
          -7.068692207336426,
          -1.5124114751815796,
          7.4808549880981445,
          7.090594291687012,
          -21.472827911376953,
          2.258812427520752,
          5.2653069496154785,
          -5.939277648925781,
          17.14191436767578,
          -4.8829450607299805,
          -2.0540730953216553,
          0.40503403544425964,
          19.74332046508789,
          5.662089824676514,
          -13.048318862915039,
          -5.241445541381836,
          -0.9008156657218933,
          3.016993522644043,
          17.29494285583496,
          -24.038593292236328,
          -4.087644100189209,
          -26.34768295288086,
          14.901728630065918,
          4.828138828277588,
          14.878469467163086,
          6.988229274749756,
          12.264388084411621,
          -20.85140037536621,
          13.562255859375,
          14.746112823486328,
          -5.985609531402588,
          6.617040157318115,
          -17.604829788208008,
          -15.477853775024414,
          -10.904417991638184,
          -24.6796932220459,
          12.801992416381836,
          -7.413153171539307,
          -25.46320152282715,
          -12.686100959777832,
          10.187860488891602,
          -18.062768936157227,
          -22.090429306030273,
          16.47110939025879,
          19.226648330688477,
          -22.95528793334961,
          12.448602676391602,
          -13.666838645935059,
          -5.994677543640137,
          17.7661190032959,
          -1.1479510068893433,
          12.991439819335938,
          14.41448974609375,
          -24.682632446289062,
          -16.87104034423828,
          17.745155334472656,
          10.927586555480957,
          9.111318588256836,
          -2.8021321296691895,
          -3.7432100772857666,
          8.063520431518555,
          12.173501014709473,
          1.679007887840271,
          -9.364104270935059,
          0.4102226197719574,
          -7.604186058044434,
          -8.192925453186035,
          10.764384269714355,
          13.718558311462402,
          -10.970732688903809,
          -2.1098408699035645,
          2.9986934661865234,
          12.325608253479004,
          -26.39892578125,
          -8.019168853759766,
          -11.139127731323242,
          1.6130913496017456,
          12.342392921447754,
          -22.772621154785156,
          -10.556595802307129,
          19.21916389465332,
          -6.271653175354004,
          12.737292289733887,
          -21.86865234375,
          11.800873756408691,
          5.175138473510742,
          20.233856201171875,
          16.21744155883789,
          12.168943405151367,
          15.315181732177734,
          -5.363466262817383,
          0.9807595610618591,
          -23.184362411499023,
          -17.54456329345703,
          -8.652676582336426,
          -16.153621673583984,
          -11.136652946472168,
          13.148892402648926,
          4.84486722946167,
          -1.7723833322525024,
          -3.6894447803497314,
          7.426571369171143,
          3.225726366043091,
          2.459146022796631,
          15.399396896362305,
          -14.939688682556152,
          -1.4668117761611938,
          -8.454684257507324,
          -15.200071334838867,
          -16.975967407226562,
          15.294234275817871,
          18.00884437561035,
          -7.238170146942139,
          -8.421703338623047,
          17.06260108947754,
          14.443546295166016,
          -3.739806652069092,
          -16.357255935668945,
          -23.196714401245117,
          11.598590850830078,
          -10.235607147216797,
          -25.19394302368164,
          15.32227897644043,
          6.76354455947876,
          -10.190532684326172,
          11.663576126098633,
          -4.221141338348389,
          14.305791854858398,
          3.0408737659454346,
          -11.627706527709961,
          -24.600927352905273,
          -4.09099006652832,
          -11.934930801391602,
          -0.4765916168689728,
          7.607918739318848,
          -9.299532890319824,
          -5.887435436248779,
          -24.856082916259766,
          15.146821975708008,
          7.4746623039245605,
          14.40900993347168,
          -3.731149435043335,
          -7.5800700187683105,
          -20.360397338867188,
          -0.8666144013404846,
          12.216381072998047,
          13.216444969177246,
          -13.253205299377441,
          12.14478874206543,
          11.847687721252441,
          11.110595703125,
          1.1988450288772583,
          -7.426304817199707,
          11.432907104492188,
          -14.609416007995605,
          -23.98233413696289,
          6.930832386016846,
          4.625639915466309,
          -24.475908279418945,
          16.113405227661133,
          10.39887523651123,
          17.94837188720703,
          -0.9602051973342896,
          -18.57312774658203,
          17.638954162597656,
          6.974071979522705,
          -6.718693733215332,
          -2.0767228603363037,
          -0.9724774360656738,
          2.3712093830108643,
          -4.417111396789551,
          13.487241744995117,
          -12.70961856842041,
          1.1758325099945068,
          12.269543647766113,
          -19.297832489013672,
          -15.00171947479248,
          -2.2026383876800537,
          -22.678110122680664,
          0.15608231723308563,
          -7.854482650756836,
          -1.9023329019546509,
          15.729170799255371,
          -21.22452163696289,
          -1.322309970855713,
          -7.189491271972656,
          5.0107879638671875,
          -16.823720932006836,
          18.081859588623047,
          -7.120465278625488,
          15.70285415649414,
          13.89457893371582,
          -1.1117193698883057,
          11.563729286193848,
          -14.22965145111084,
          -4.799782752990723,
          7.952926158905029,
          13.094281196594238,
          -7.7313408851623535,
          16.06033706665039,
          18.916976928710938,
          -6.514836311340332,
          -6.435238838195801,
          13.198643684387207,
          -17.447677612304688,
          -11.433767318725586,
          -7.7361555099487305,
          -15.500978469848633,
          -4.5061235427856445,
          -1.009381890296936,
          -8.201491355895996,
          19.184463500976562,
          -15.69958782196045,
          -0.048143062740564346,
          -7.913996696472168,
          1.229623556137085,
          11.634970664978027,
          -13.865846633911133,
          11.891587257385254,
          -1.8751059770584106,
          -18.20078468322754,
          -21.37458610534668,
          9.287549018859863,
          -15.437442779541016,
          14.02876091003418,
          -4.655836582183838,
          12.312581062316895,
          -20.39561653137207,
          5.782634258270264,
          13.191609382629395,
          -19.909852981567383,
          2.3031389713287354,
          -12.791017532348633,
          1.4775032997131348,
          -20.826988220214844,
          -3.785069227218628,
          -13.361869812011719,
          6.364421367645264,
          -1.9444125890731812,
          13.713236808776855,
          -0.23877571523189545,
          -3.7396976947784424,
          15.642476081848145,
          -20.88323211669922,
          19.094972610473633,
          -4.621357440948486,
          16.893665313720703,
          -20.11355209350586,
          -9.536966323852539,
          -2.7127668857574463,
          6.022308349609375,
          11.511640548706055,
          5.4228057861328125,
          13.928215026855469,
          -10.157820701599121,
          8.68865966796875,
          -6.301043510437012,
          16.171262741088867,
          -7.916884899139404,
          0.33073198795318604,
          13.601653099060059,
          12.381547927856445,
          5.780968189239502,
          5.950206279754639,
          -20.081707000732422,
          -6.444028377532959,
          4.985711097717285,
          -4.034056663513184,
          -23.8909854888916,
          11.377392768859863,
          8.84381103515625
         ],
         "yaxis": "y"
        }
       ],
       "layout": {
        "coloraxis": {
         "colorbar": {
          "title": {
           "text": "color"
          }
         },
         "colorscale": [
          [
           0,
           "#0d0887"
          ],
          [
           0.1111111111111111,
           "#46039f"
          ],
          [
           0.2222222222222222,
           "#7201a8"
          ],
          [
           0.3333333333333333,
           "#9c179e"
          ],
          [
           0.4444444444444444,
           "#bd3786"
          ],
          [
           0.5555555555555556,
           "#d8576b"
          ],
          [
           0.6666666666666666,
           "#ed7953"
          ],
          [
           0.7777777777777778,
           "#fb9f3a"
          ],
          [
           0.8888888888888888,
           "#fdca26"
          ],
          [
           1,
           "#f0f921"
          ]
         ]
        },
        "legend": {
         "tracegroupgap": 0
        },
        "margin": {
         "t": 60
        },
        "template": {
         "data": {
          "bar": [
           {
            "error_x": {
             "color": "#2a3f5f"
            },
            "error_y": {
             "color": "#2a3f5f"
            },
            "marker": {
             "line": {
              "color": "#E5ECF6",
              "width": 0.5
             }
            },
            "type": "bar"
           }
          ],
          "barpolar": [
           {
            "marker": {
             "line": {
              "color": "#E5ECF6",
              "width": 0.5
             }
            },
            "type": "barpolar"
           }
          ],
          "carpet": [
           {
            "aaxis": {
             "endlinecolor": "#2a3f5f",
             "gridcolor": "white",
             "linecolor": "white",
             "minorgridcolor": "white",
             "startlinecolor": "#2a3f5f"
            },
            "baxis": {
             "endlinecolor": "#2a3f5f",
             "gridcolor": "white",
             "linecolor": "white",
             "minorgridcolor": "white",
             "startlinecolor": "#2a3f5f"
            },
            "type": "carpet"
           }
          ],
          "choropleth": [
           {
            "colorbar": {
             "outlinewidth": 0,
             "ticks": ""
            },
            "type": "choropleth"
           }
          ],
          "contour": [
           {
            "colorbar": {
             "outlinewidth": 0,
             "ticks": ""
            },
            "colorscale": [
             [
              0,
              "#0d0887"
             ],
             [
              0.1111111111111111,
              "#46039f"
             ],
             [
              0.2222222222222222,
              "#7201a8"
             ],
             [
              0.3333333333333333,
              "#9c179e"
             ],
             [
              0.4444444444444444,
              "#bd3786"
             ],
             [
              0.5555555555555556,
              "#d8576b"
             ],
             [
              0.6666666666666666,
              "#ed7953"
             ],
             [
              0.7777777777777778,
              "#fb9f3a"
             ],
             [
              0.8888888888888888,
              "#fdca26"
             ],
             [
              1,
              "#f0f921"
             ]
            ],
            "type": "contour"
           }
          ],
          "contourcarpet": [
           {
            "colorbar": {
             "outlinewidth": 0,
             "ticks": ""
            },
            "type": "contourcarpet"
           }
          ],
          "heatmap": [
           {
            "colorbar": {
             "outlinewidth": 0,
             "ticks": ""
            },
            "colorscale": [
             [
              0,
              "#0d0887"
             ],
             [
              0.1111111111111111,
              "#46039f"
             ],
             [
              0.2222222222222222,
              "#7201a8"
             ],
             [
              0.3333333333333333,
              "#9c179e"
             ],
             [
              0.4444444444444444,
              "#bd3786"
             ],
             [
              0.5555555555555556,
              "#d8576b"
             ],
             [
              0.6666666666666666,
              "#ed7953"
             ],
             [
              0.7777777777777778,
              "#fb9f3a"
             ],
             [
              0.8888888888888888,
              "#fdca26"
             ],
             [
              1,
              "#f0f921"
             ]
            ],
            "type": "heatmap"
           }
          ],
          "heatmapgl": [
           {
            "colorbar": {
             "outlinewidth": 0,
             "ticks": ""
            },
            "colorscale": [
             [
              0,
              "#0d0887"
             ],
             [
              0.1111111111111111,
              "#46039f"
             ],
             [
              0.2222222222222222,
              "#7201a8"
             ],
             [
              0.3333333333333333,
              "#9c179e"
             ],
             [
              0.4444444444444444,
              "#bd3786"
             ],
             [
              0.5555555555555556,
              "#d8576b"
             ],
             [
              0.6666666666666666,
              "#ed7953"
             ],
             [
              0.7777777777777778,
              "#fb9f3a"
             ],
             [
              0.8888888888888888,
              "#fdca26"
             ],
             [
              1,
              "#f0f921"
             ]
            ],
            "type": "heatmapgl"
           }
          ],
          "histogram": [
           {
            "marker": {
             "colorbar": {
              "outlinewidth": 0,
              "ticks": ""
             }
            },
            "type": "histogram"
           }
          ],
          "histogram2d": [
           {
            "colorbar": {
             "outlinewidth": 0,
             "ticks": ""
            },
            "colorscale": [
             [
              0,
              "#0d0887"
             ],
             [
              0.1111111111111111,
              "#46039f"
             ],
             [
              0.2222222222222222,
              "#7201a8"
             ],
             [
              0.3333333333333333,
              "#9c179e"
             ],
             [
              0.4444444444444444,
              "#bd3786"
             ],
             [
              0.5555555555555556,
              "#d8576b"
             ],
             [
              0.6666666666666666,
              "#ed7953"
             ],
             [
              0.7777777777777778,
              "#fb9f3a"
             ],
             [
              0.8888888888888888,
              "#fdca26"
             ],
             [
              1,
              "#f0f921"
             ]
            ],
            "type": "histogram2d"
           }
          ],
          "histogram2dcontour": [
           {
            "colorbar": {
             "outlinewidth": 0,
             "ticks": ""
            },
            "colorscale": [
             [
              0,
              "#0d0887"
             ],
             [
              0.1111111111111111,
              "#46039f"
             ],
             [
              0.2222222222222222,
              "#7201a8"
             ],
             [
              0.3333333333333333,
              "#9c179e"
             ],
             [
              0.4444444444444444,
              "#bd3786"
             ],
             [
              0.5555555555555556,
              "#d8576b"
             ],
             [
              0.6666666666666666,
              "#ed7953"
             ],
             [
              0.7777777777777778,
              "#fb9f3a"
             ],
             [
              0.8888888888888888,
              "#fdca26"
             ],
             [
              1,
              "#f0f921"
             ]
            ],
            "type": "histogram2dcontour"
           }
          ],
          "mesh3d": [
           {
            "colorbar": {
             "outlinewidth": 0,
             "ticks": ""
            },
            "type": "mesh3d"
           }
          ],
          "parcoords": [
           {
            "line": {
             "colorbar": {
              "outlinewidth": 0,
              "ticks": ""
             }
            },
            "type": "parcoords"
           }
          ],
          "pie": [
           {
            "automargin": true,
            "type": "pie"
           }
          ],
          "scatter": [
           {
            "marker": {
             "colorbar": {
              "outlinewidth": 0,
              "ticks": ""
             }
            },
            "type": "scatter"
           }
          ],
          "scatter3d": [
           {
            "line": {
             "colorbar": {
              "outlinewidth": 0,
              "ticks": ""
             }
            },
            "marker": {
             "colorbar": {
              "outlinewidth": 0,
              "ticks": ""
             }
            },
            "type": "scatter3d"
           }
          ],
          "scattercarpet": [
           {
            "marker": {
             "colorbar": {
              "outlinewidth": 0,
              "ticks": ""
             }
            },
            "type": "scattercarpet"
           }
          ],
          "scattergeo": [
           {
            "marker": {
             "colorbar": {
              "outlinewidth": 0,
              "ticks": ""
             }
            },
            "type": "scattergeo"
           }
          ],
          "scattergl": [
           {
            "marker": {
             "colorbar": {
              "outlinewidth": 0,
              "ticks": ""
             }
            },
            "type": "scattergl"
           }
          ],
          "scattermapbox": [
           {
            "marker": {
             "colorbar": {
              "outlinewidth": 0,
              "ticks": ""
             }
            },
            "type": "scattermapbox"
           }
          ],
          "scatterpolar": [
           {
            "marker": {
             "colorbar": {
              "outlinewidth": 0,
              "ticks": ""
             }
            },
            "type": "scatterpolar"
           }
          ],
          "scatterpolargl": [
           {
            "marker": {
             "colorbar": {
              "outlinewidth": 0,
              "ticks": ""
             }
            },
            "type": "scatterpolargl"
           }
          ],
          "scatterternary": [
           {
            "marker": {
             "colorbar": {
              "outlinewidth": 0,
              "ticks": ""
             }
            },
            "type": "scatterternary"
           }
          ],
          "surface": [
           {
            "colorbar": {
             "outlinewidth": 0,
             "ticks": ""
            },
            "colorscale": [
             [
              0,
              "#0d0887"
             ],
             [
              0.1111111111111111,
              "#46039f"
             ],
             [
              0.2222222222222222,
              "#7201a8"
             ],
             [
              0.3333333333333333,
              "#9c179e"
             ],
             [
              0.4444444444444444,
              "#bd3786"
             ],
             [
              0.5555555555555556,
              "#d8576b"
             ],
             [
              0.6666666666666666,
              "#ed7953"
             ],
             [
              0.7777777777777778,
              "#fb9f3a"
             ],
             [
              0.8888888888888888,
              "#fdca26"
             ],
             [
              1,
              "#f0f921"
             ]
            ],
            "type": "surface"
           }
          ],
          "table": [
           {
            "cells": {
             "fill": {
              "color": "#EBF0F8"
             },
             "line": {
              "color": "white"
             }
            },
            "header": {
             "fill": {
              "color": "#C8D4E3"
             },
             "line": {
              "color": "white"
             }
            },
            "type": "table"
           }
          ]
         },
         "layout": {
          "annotationdefaults": {
           "arrowcolor": "#2a3f5f",
           "arrowhead": 0,
           "arrowwidth": 1
          },
          "coloraxis": {
           "colorbar": {
            "outlinewidth": 0,
            "ticks": ""
           }
          },
          "colorscale": {
           "diverging": [
            [
             0,
             "#8e0152"
            ],
            [
             0.1,
             "#c51b7d"
            ],
            [
             0.2,
             "#de77ae"
            ],
            [
             0.3,
             "#f1b6da"
            ],
            [
             0.4,
             "#fde0ef"
            ],
            [
             0.5,
             "#f7f7f7"
            ],
            [
             0.6,
             "#e6f5d0"
            ],
            [
             0.7,
             "#b8e186"
            ],
            [
             0.8,
             "#7fbc41"
            ],
            [
             0.9,
             "#4d9221"
            ],
            [
             1,
             "#276419"
            ]
           ],
           "sequential": [
            [
             0,
             "#0d0887"
            ],
            [
             0.1111111111111111,
             "#46039f"
            ],
            [
             0.2222222222222222,
             "#7201a8"
            ],
            [
             0.3333333333333333,
             "#9c179e"
            ],
            [
             0.4444444444444444,
             "#bd3786"
            ],
            [
             0.5555555555555556,
             "#d8576b"
            ],
            [
             0.6666666666666666,
             "#ed7953"
            ],
            [
             0.7777777777777778,
             "#fb9f3a"
            ],
            [
             0.8888888888888888,
             "#fdca26"
            ],
            [
             1,
             "#f0f921"
            ]
           ],
           "sequentialminus": [
            [
             0,
             "#0d0887"
            ],
            [
             0.1111111111111111,
             "#46039f"
            ],
            [
             0.2222222222222222,
             "#7201a8"
            ],
            [
             0.3333333333333333,
             "#9c179e"
            ],
            [
             0.4444444444444444,
             "#bd3786"
            ],
            [
             0.5555555555555556,
             "#d8576b"
            ],
            [
             0.6666666666666666,
             "#ed7953"
            ],
            [
             0.7777777777777778,
             "#fb9f3a"
            ],
            [
             0.8888888888888888,
             "#fdca26"
            ],
            [
             1,
             "#f0f921"
            ]
           ]
          },
          "colorway": [
           "#636efa",
           "#EF553B",
           "#00cc96",
           "#ab63fa",
           "#FFA15A",
           "#19d3f3",
           "#FF6692",
           "#B6E880",
           "#FF97FF",
           "#FECB52"
          ],
          "font": {
           "color": "#2a3f5f"
          },
          "geo": {
           "bgcolor": "white",
           "lakecolor": "white",
           "landcolor": "#E5ECF6",
           "showlakes": true,
           "showland": true,
           "subunitcolor": "white"
          },
          "hoverlabel": {
           "align": "left"
          },
          "hovermode": "closest",
          "mapbox": {
           "style": "light"
          },
          "paper_bgcolor": "white",
          "plot_bgcolor": "#E5ECF6",
          "polar": {
           "angularaxis": {
            "gridcolor": "white",
            "linecolor": "white",
            "ticks": ""
           },
           "bgcolor": "#E5ECF6",
           "radialaxis": {
            "gridcolor": "white",
            "linecolor": "white",
            "ticks": ""
           }
          },
          "scene": {
           "xaxis": {
            "backgroundcolor": "#E5ECF6",
            "gridcolor": "white",
            "gridwidth": 2,
            "linecolor": "white",
            "showbackground": true,
            "ticks": "",
            "zerolinecolor": "white"
           },
           "yaxis": {
            "backgroundcolor": "#E5ECF6",
            "gridcolor": "white",
            "gridwidth": 2,
            "linecolor": "white",
            "showbackground": true,
            "ticks": "",
            "zerolinecolor": "white"
           },
           "zaxis": {
            "backgroundcolor": "#E5ECF6",
            "gridcolor": "white",
            "gridwidth": 2,
            "linecolor": "white",
            "showbackground": true,
            "ticks": "",
            "zerolinecolor": "white"
           }
          },
          "shapedefaults": {
           "line": {
            "color": "#2a3f5f"
           }
          },
          "ternary": {
           "aaxis": {
            "gridcolor": "white",
            "linecolor": "white",
            "ticks": ""
           },
           "baxis": {
            "gridcolor": "white",
            "linecolor": "white",
            "ticks": ""
           },
           "bgcolor": "#E5ECF6",
           "caxis": {
            "gridcolor": "white",
            "linecolor": "white",
            "ticks": ""
           }
          },
          "title": {
           "x": 0.05
          },
          "xaxis": {
           "automargin": true,
           "gridcolor": "white",
           "linecolor": "white",
           "ticks": "",
           "title": {
            "standoff": 15
           },
           "zerolinecolor": "white",
           "zerolinewidth": 2
          },
          "yaxis": {
           "automargin": true,
           "gridcolor": "white",
           "linecolor": "white",
           "ticks": "",
           "title": {
            "standoff": 15
           },
           "zerolinecolor": "white",
           "zerolinewidth": 2
          }
         }
        },
        "xaxis": {
         "anchor": "y",
         "domain": [
          0,
          1
         ],
         "title": {
          "text": "x"
         }
        },
        "yaxis": {
         "anchor": "x",
         "domain": [
          0,
          1
         ],
         "title": {
          "text": "y"
         }
        }
       }
      },
      "text/html": [
       "<div>\n",
       "        \n",
       "        \n",
       "            <div id=\"1a953f06-55ab-454d-bcf9-296b3820744f\" class=\"plotly-graph-div\" style=\"height:525px; width:100%;\"></div>\n",
       "            <script type=\"text/javascript\">\n",
       "                require([\"plotly\"], function(Plotly) {\n",
       "                    window.PLOTLYENV=window.PLOTLYENV || {};\n",
       "                    \n",
       "                if (document.getElementById(\"1a953f06-55ab-454d-bcf9-296b3820744f\")) {\n",
       "                    Plotly.newPlot(\n",
       "                        '1a953f06-55ab-454d-bcf9-296b3820744f',\n",
       "                        [{\"hoverlabel\": {\"namelength\": 0}, \"hovertemplate\": \"x=%{x}<br>y=%{y}<br>color=%{marker.color}\", \"legendgroup\": \"\", \"marker\": {\"color\": [1, 0, 2, 1, 0, 0, 0, 2, 1, 1, 0, 0, 0, 1, 0, 0, 0, 2, 0, 2, 1, 0, 2, 0, 2, 0, 1, 2, 0, 2, 0, 0, 1, 1, 0, 2, 2, 0, 0, 2, 2, 0, 1, 0, 1, 1, 0, 0, 1, 1, 0, 0, 0, 0, 1, 1, 0, 1, 0, 0, 0, 0, 0, 0, 0, 1, 0, 0, 1, 0, 0, 0, 1, 0, 0, 0, 2, 0, 1, 1, 1, 1, 2, 0, 1, 1, 1, 2, 1, 0, 0, 1, 1, 2, 2, 0, 1, 1, 0, 1, 0, 2, 2, 2, 0, 0, 2, 0, 0, 0, 1, 2, 0, 2, 2, 1, 1, 1, 0, 0, 0, 1, 1, 0, 2, 1, 1, 2, 2, 1, 2, 0, 0, 0, 0, 1, 0, 2, 0, 1, 0, 1, 0, 0, 0, 1, 0, 0, 0, 0, 0, 1, 2, 0, 2, 1, 1, 1, 1, 1, 2, 0, 1, 0, 1, 2, 2, 0, 2, 0, 0, 2, 2, 1, 2, 2, 1, 1, 2, 0, 0, 0, 1, 0, 1, 1, 2, 2, 1, 1, 1, 0, 0, 1, 1, 0, 0, 0, 0, 0, 1, 1, 0, 0, 0, 1, 2, 0, 0, 0, 0, 2, 0, 1, 0, 1, 2, 1, 0, 1, 1, 1, 1, 0, 0, 2, 2, 0, 2, 0, 1, 0, 0, 0, 0, 0, 1, 1, 2, 0, 0, 2, 2, 1, 1, 0, 2, 1, 1, 0, 2, 2, 1, 0, 2, 1, 0, 0, 1, 0, 1, 0, 0, 2, 0, 0, 0, 0, 0, 0, 2, 1, 0, 1, 0, 0, 2, 0, 1, 1, 2, 1, 0, 1, 0, 0, 1, 2, 2, 0, 1, 2, 1, 1, 1, 0, 2, 1, 0, 0, 0, 0, 0, 0, 1, 2, 0, 1, 2, 2, 0, 2, 0, 2, 0, 1, 2, 0, 0, 0, 2, 1, 0, 1, 1, 0, 1, 2, 0, 0, 1, 0, 1, 1, 0, 0, 1, 2, 0, 0, 2, 0, 0, 0, 1, 0, 0, 0, 0, 1, 0, 1, 0, 2, 2, 1, 2, 1, 0, 1, 2, 0, 1, 2, 0, 2, 0, 2, 0, 2, 0, 0, 1, 0, 2, 1, 2, 1, 0, 1, 2, 0, 0, 1, 0, 1, 1, 0, 1, 0, 1, 0, 0, 1, 0, 0, 0, 2, 0, 0, 0, 2, 1, 0], \"coloraxis\": \"coloraxis\", \"symbol\": \"circle\"}, \"mode\": \"markers\", \"name\": \"\", \"showlegend\": false, \"type\": \"scatter\", \"x\": [28.138090133666992, -9.785577774047852, -15.69575309753418, 37.92485427856445, -8.786393165588379, -13.98817253112793, -11.960750579833984, -18.704307556152344, 38.66581344604492, 35.53425979614258, -12.056244850158691, -5.740067481994629, -2.027515411376953, 35.761878967285156, -2.296684503555298, -10.22756576538086, -7.261146068572998, -14.4019775390625, -13.338248252868652, -17.165924072265625, 34.027828216552734, -4.423198699951172, -15.497815132141113, -10.733388900756836, -18.339698791503906, -3.087924003601074, 8.299799919128418, -1.5845332145690918, -1.7503095865249634, -17.836658477783203, -8.456023216247559, -3.9704554080963135, 5.307853698730469, 35.637428283691406, -11.57609748840332, -17.734853744506836, -15.124906539916992, -9.148589134216309, -8.659377098083496, -16.324066162109375, -17.55832290649414, 6.480410099029541, 31.174524307250977, -9.849212646484375, 8.876485824584961, 25.288591384887695, -9.757773399353027, -0.2112339735031128, 36.2806510925293, 24.669172286987305, -7.998272895812988, -4.818826198577881, -14.016992568969727, -12.478437423706055, 26.39421844482422, 22.183818817138672, -7.556576728820801, 32.93328857421875, -6.182796478271484, -13.59729290008545, -7.674780368804932, -10.064885139465332, 2.029481887817383, -7.0646491050720215, 2.8209564685821533, 26.092727661132812, -9.137147903442383, -14.996927261352539, 2.1641650199890137, -6.453408241271973, -11.519039154052734, 1.8227492570877075, 24.0560359954834, -5.100667476654053, -3.9655966758728027, -5.596575736999512, -13.10737133026123, -9.22256088256836, 5.209641456604004, 28.591278076171875, 26.882253646850586, 18.100563049316406, -21.71172332763672, 8.160860061645508, 37.348514556884766, 0.3241937756538391, 17.81884765625, -16.28749656677246, 22.972352981567383, 2.435102939605713, -6.301253318786621, 26.08963394165039, 29.241607666015625, -14.919875144958496, -17.32777214050293, -7.14579963684082, 23.83222007751465, 5.877645015716553, -9.879020690917969, 9.006916999816895, 7.99203634262085, -8.45233154296875, -11.306772232055664, -15.029135704040527, 2.8994929790496826, 9.957072257995605, -17.30231285095215, -1.7587040662765503, -15.524320602416992, -6.539498329162598, 36.8698616027832, -18.851728439331055, -5.789373397827148, -16.433256149291992, -13.80782413482666, 24.613048553466797, 17.841777801513672, 29.549850463867188, -3.8460729122161865, 2.7909812927246094, -1.867841362953186, 29.773649215698242, 25.423192977905273, -7.883637428283691, -15.9246826171875, 0.8281030058860779, 22.932510375976562, -13.440202713012695, -16.127445220947266, 28.7572021484375, -14.64209270477295, -3.4913365840911865, -3.8387539386749268, 3.162611722946167, -16.07027816772461, 17.245773315429688, -4.442483425140381, -12.030938148498535, 1.7066959142684937, 3.998798131942749, -4.1890411376953125, 26.139463424682617, -6.6152238845825195, -5.599869728088379, -14.99599552154541, 29.986173629760742, -6.975162506103516, -10.448421478271484, -12.287484169006348, -7.823965072631836, 3.0520691871643066, 25.116960525512695, -15.659012794494629, -17.36604881286621, -16.181859970092773, 26.63608169555664, 5.528126239776611, 25.4152889251709, 5.235278129577637, 36.829715728759766, -15.767955780029297, -1.832186222076416, 1.3897122144699097, -6.3575615882873535, 4.91289758682251, -13.259506225585938, -9.81864070892334, -1.9475685358047485, -19.38514518737793, -2.0644731521606445, -3.83290433883667, -15.547487258911133, -15.642579078674316, 24.980056762695312, -13.009830474853516, -20.31954574584961, 34.64148712158203, 27.20115852355957, -19.196426391601562, -2.215622901916504, -8.550802230834961, -3.265153169631958, 23.78835678100586, 8.167024612426758, 0.17315466701984406, 37.045249938964844, -13.55933952331543, -15.93649959564209, 33.16281509399414, 24.122591018676758, 17.95651626586914, -16.353870391845703, -16.801658630371094, 17.696271896362305, 39.31819152832031, -4.157177925109863, -4.258837699890137, -8.99943733215332, -19.100439071655273, -12.137617111206055, 24.82777976989746, 37.34647750854492, -1.0925041437149048, -3.9396259784698486, 1.5488351583480835, 0.25649604201316833, -16.48436737060547, 3.1955058574676514, -0.8474370837211609, -4.558232307434082, -2.515753984451294, -19.989328384399414, -0.7226130962371826, 30.259971618652344, -10.158079147338867, 0.08230315893888474, -15.869552612304688, 38.73603820800781, -6.79148006439209, 29.3762149810791, 24.12397575378418, 0.13618093729019165, 32.024314880371094, -14.086000442504883, -8.724421501159668, -16.908262252807617, -21.90854263305664, -6.8059258460998535, -13.415857315063477, -2.8626866340637207, 38.53171157836914, 3.605246067047119, -16.2297420501709, -7.671777248382568, -7.545535564422607, 2.4615848064422607, 9.198016166687012, 25.932146072387695, -17.37660789489746, 6.972787857055664, -5.684963226318359, -13.44273567199707, -12.794305801391602, 27.561574935913086, 26.984895706176758, -2.94622802734375, -15.503091812133789, 28.817474365234375, 24.508346557617188, -11.032841682434082, -22.25300407409668, -18.475942611694336, 38.0399055480957, -7.427979469299316, -15.430384635925293, 21.784282684326172, -5.957313060760498, -0.9355559945106506, 36.18915939331055, -12.23030948638916, 36.391273498535156, 1.929116129875183, -3.4254379272460938, -13.525520324707031, -11.699257850646973, -12.930644989013672, -12.940567970275879, -11.337043762207031, 2.284489870071411, -11.63337516784668, -17.142038345336914, 23.838594436645508, -10.02148151397705, 24.860498428344727, -5.9925737380981445, 2.854370355606079, -16.063274383544922, 9.832547187805176, 37.56718826293945, 0.41758254170417786, -13.812566757202148, 0.931556761264801, 0.9676187634468079, 23.09625244140625, -14.31750202178955, -13.200440406799316, 25.894344329833984, -16.050853729248047, -16.235118865966797, -7.953785419464111, 5.768365859985352, -13.822851181030273, 27.854665756225586, 25.477354049682617, 23.769041061401367, 7.5614471435546875, -11.319219589233398, 26.7924747467041, -4.525932312011719, -10.308158874511719, 7.791233062744141, -8.620615005493164, -10.567705154418945, -17.374204635620117, 23.803836822509766, -17.44331932067871, -7.807387351989746, 24.428922653198242, -13.235815048217773, -17.26802635192871, 6.85231351852417, -17.058027267456055, 1.7377909421920776, -15.496488571166992, -2.7052154541015625, 26.84400177001953, -13.481953620910645, -5.812560081481934, 2.580955982208252, -7.545675277709961, -15.222615242004395, 26.268550872802734, -6.346195697784424, 23.597431182861328, 1.9722594022750854, -12.995844841003418, 37.45243835449219, -10.959866523742676, -12.993106842041016, -10.84146785736084, 36.12135696411133, 3.314650535583496, 35.02959060668945, 23.96761131286621, -5.074072360992432, -11.020782470703125, 26.17481803894043, -14.710018157958984, -15.141213417053223, 2.6550402641296387, -13.272612571716309, -9.680867195129395, -6.794485092163086, -3.258638620376587, 29.28725814819336, -22.125442504882812, 1.7329541444778442, -17.960464477539062, -6.618411064147949, -0.35213011503219604, -7.452158451080322, 24.731822967529297, -7.48475980758667, -15.040484428405762, -20.080398559570312, 18.261272430419922, -14.090936660766602, 23.588979721069336, -5.163389682769775, 37.95271301269531, -12.184301376342773, -4.743852615356445, 22.915224075317383, -12.021965980529785, 2.149705648422241, -16.094846725463867, -13.842692375183105, -14.436537742614746, -6.008073806762695, -18.098129272460938, -8.40699577331543, -4.529141426086426, 24.13882064819336, 8.845355987548828, 7.13356876373291, 25.17281723022461, -13.478057861328125, 28.600034713745117, -16.849109649658203, 31.180587768554688, -14.50355052947998, 2.70746111869812, -3.640909194946289, 4.791021823883057, 0.853029191493988, 4.364199638366699, 22.8590087890625, -3.35573410987854, 18.297565460205078, -7.4130706787109375, 22.988801956176758, -18.15911102294922, -10.182291984558105, 36.82933807373047, -2.308262348175049, -4.720948696136475, -10.18252944946289, -12.676905632019043, -14.794759750366211, -7.8714423179626465, -13.531818389892578, -17.8717098236084, 37.071964263916016, -10.998274803161621], \"xaxis\": \"x\", \"y\": [18.375324249267578, -4.535538673400879, -17.54362678527832, 13.517045974731445, 3.995166540145874, -7.762665748596191, -7.477197647094727, -23.81291389465332, 12.557709693908691, 11.327714920043945, -8.116859436035156, -5.818462371826172, -8.284211158752441, 12.485169410705566, -10.119440078735352, 7.138570785522461, 1.1323055028915405, -18.217144012451172, -12.094605445861816, -12.843067169189453, 17.060033798217773, 0.22272194921970367, -7.909300327301025, -5.520516395568848, -23.839216232299805, -8.492774963378906, 2.3935861587524414, -12.517796516418457, 13.745354652404785, -8.000917434692383, 7.1432576179504395, 1.7679942846298218, 6.620876312255859, 13.454849243164062, -6.726914882659912, -25.4604434967041, -22.501611709594727, 6.324594974517822, 6.130604267120361, -23.121286392211914, -22.25469398498535, -1.2868648767471313, 17.798105239868164, -10.464815139770508, 2.1363351345062256, 15.68880558013916, 5.866697311401367, -10.906813621520996, 12.509353637695312, 15.230006217956543, -9.4287748336792, 0.21983899176120758, -5.130568504333496, -6.539828300476074, 12.135004043579102, 13.560776710510254, -10.210701942443848, 17.762104034423828, -5.477753639221191, -12.097708702087402, 2.8502883911132812, -5.581969738006592, -5.832189559936523, 7.4513139724731445, -9.180927276611328, 14.185688018798828, 6.749770641326904, 0.3744402527809143, 13.593367576599121, 6.181309223175049, -5.173037528991699, 0.9051862955093384, 11.766386032104492, 1.341476559638977, 0.13827882707118988, -9.552627563476562, -21.394411087036133, -12.404206275939941, 7.0080108642578125, 19.93478775024414, 18.31989288330078, 9.417340278625488, -16.2291202545166, -2.0175364017486572, 12.9169340133667, 14.745590209960938, 8.210229873657227, -10.81173324584961, 14.721687316894531, 2.454786777496338, 1.679091215133667, 16.241724014282227, 16.87148094177246, -22.699377059936523, -13.238886833190918, 5.609570503234863, 16.11304473876953, 5.382422924041748, -10.558213233947754, 2.170090913772583, -2.0906929969787598, -14.400634765625, -13.559564590454102, -13.15610408782959, 2.690472364425659, -0.923422634601593, -24.693302154541016, -9.065764427185059, -6.370616436004639, -2.422774314880371, 12.771760940551758, -13.646538734436035, 0.7386084198951721, -25.035593032836914, -18.64319610595703, 9.975407600402832, 9.101089477539062, 17.52821159362793, -12.100049018859863, -8.257888793945312, -9.096159934997559, 18.961406707763672, 13.732558250427246, -3.592167854309082, -26.287376403808594, 12.57889461517334, 18.894269943237305, -12.779950141906738, -20.58344078063965, 16.142431259155273, -12.577880859375, -0.6340091228485107, -9.338226318359375, -7.068692207336426, -1.5124114751815796, 7.4808549880981445, 7.090594291687012, -21.472827911376953, 2.258812427520752, 5.2653069496154785, -5.939277648925781, 17.14191436767578, -4.8829450607299805, -2.0540730953216553, 0.40503403544425964, 19.74332046508789, 5.662089824676514, -13.048318862915039, -5.241445541381836, -0.9008156657218933, 3.016993522644043, 17.29494285583496, -24.038593292236328, -4.087644100189209, -26.34768295288086, 14.901728630065918, 4.828138828277588, 14.878469467163086, 6.988229274749756, 12.264388084411621, -20.85140037536621, 13.562255859375, 14.746112823486328, -5.985609531402588, 6.617040157318115, -17.604829788208008, -15.477853775024414, -10.904417991638184, -24.6796932220459, 12.801992416381836, -7.413153171539307, -25.46320152282715, -12.686100959777832, 10.187860488891602, -18.062768936157227, -22.090429306030273, 16.47110939025879, 19.226648330688477, -22.95528793334961, 12.448602676391602, -13.666838645935059, -5.994677543640137, 17.7661190032959, -1.1479510068893433, 12.991439819335938, 14.41448974609375, -24.682632446289062, -16.87104034423828, 17.745155334472656, 10.927586555480957, 9.111318588256836, -2.8021321296691895, -3.7432100772857666, 8.063520431518555, 12.173501014709473, 1.679007887840271, -9.364104270935059, 0.4102226197719574, -7.604186058044434, -8.192925453186035, 10.764384269714355, 13.718558311462402, -10.970732688903809, -2.1098408699035645, 2.9986934661865234, 12.325608253479004, -26.39892578125, -8.019168853759766, -11.139127731323242, 1.6130913496017456, 12.342392921447754, -22.772621154785156, -10.556595802307129, 19.21916389465332, -6.271653175354004, 12.737292289733887, -21.86865234375, 11.800873756408691, 5.175138473510742, 20.233856201171875, 16.21744155883789, 12.168943405151367, 15.315181732177734, -5.363466262817383, 0.9807595610618591, -23.184362411499023, -17.54456329345703, -8.652676582336426, -16.153621673583984, -11.136652946472168, 13.148892402648926, 4.84486722946167, -1.7723833322525024, -3.6894447803497314, 7.426571369171143, 3.225726366043091, 2.459146022796631, 15.399396896362305, -14.939688682556152, -1.4668117761611938, -8.454684257507324, -15.200071334838867, -16.975967407226562, 15.294234275817871, 18.00884437561035, -7.238170146942139, -8.421703338623047, 17.06260108947754, 14.443546295166016, -3.739806652069092, -16.357255935668945, -23.196714401245117, 11.598590850830078, -10.235607147216797, -25.19394302368164, 15.32227897644043, 6.76354455947876, -10.190532684326172, 11.663576126098633, -4.221141338348389, 14.305791854858398, 3.0408737659454346, -11.627706527709961, -24.600927352905273, -4.09099006652832, -11.934930801391602, -0.4765916168689728, 7.607918739318848, -9.299532890319824, -5.887435436248779, -24.856082916259766, 15.146821975708008, 7.4746623039245605, 14.40900993347168, -3.731149435043335, -7.5800700187683105, -20.360397338867188, -0.8666144013404846, 12.216381072998047, 13.216444969177246, -13.253205299377441, 12.14478874206543, 11.847687721252441, 11.110595703125, 1.1988450288772583, -7.426304817199707, 11.432907104492188, -14.609416007995605, -23.98233413696289, 6.930832386016846, 4.625639915466309, -24.475908279418945, 16.113405227661133, 10.39887523651123, 17.94837188720703, -0.9602051973342896, -18.57312774658203, 17.638954162597656, 6.974071979522705, -6.718693733215332, -2.0767228603363037, -0.9724774360656738, 2.3712093830108643, -4.417111396789551, 13.487241744995117, -12.70961856842041, 1.1758325099945068, 12.269543647766113, -19.297832489013672, -15.00171947479248, -2.2026383876800537, -22.678110122680664, 0.15608231723308563, -7.854482650756836, -1.9023329019546509, 15.729170799255371, -21.22452163696289, -1.322309970855713, -7.189491271972656, 5.0107879638671875, -16.823720932006836, 18.081859588623047, -7.120465278625488, 15.70285415649414, 13.89457893371582, -1.1117193698883057, 11.563729286193848, -14.22965145111084, -4.799782752990723, 7.952926158905029, 13.094281196594238, -7.7313408851623535, 16.06033706665039, 18.916976928710938, -6.514836311340332, -6.435238838195801, 13.198643684387207, -17.447677612304688, -11.433767318725586, -7.7361555099487305, -15.500978469848633, -4.5061235427856445, -1.009381890296936, -8.201491355895996, 19.184463500976562, -15.69958782196045, -0.048143062740564346, -7.913996696472168, 1.229623556137085, 11.634970664978027, -13.865846633911133, 11.891587257385254, -1.8751059770584106, -18.20078468322754, -21.37458610534668, 9.287549018859863, -15.437442779541016, 14.02876091003418, -4.655836582183838, 12.312581062316895, -20.39561653137207, 5.782634258270264, 13.191609382629395, -19.909852981567383, 2.3031389713287354, -12.791017532348633, 1.4775032997131348, -20.826988220214844, -3.785069227218628, -13.361869812011719, 6.364421367645264, -1.9444125890731812, 13.713236808776855, -0.23877571523189545, -3.7396976947784424, 15.642476081848145, -20.88323211669922, 19.094972610473633, -4.621357440948486, 16.893665313720703, -20.11355209350586, -9.536966323852539, -2.7127668857574463, 6.022308349609375, 11.511640548706055, 5.4228057861328125, 13.928215026855469, -10.157820701599121, 8.68865966796875, -6.301043510437012, 16.171262741088867, -7.916884899139404, 0.33073198795318604, 13.601653099060059, 12.381547927856445, 5.780968189239502, 5.950206279754639, -20.081707000732422, -6.444028377532959, 4.985711097717285, -4.034056663513184, -23.8909854888916, 11.377392768859863, 8.84381103515625], \"yaxis\": \"y\"}],\n",
       "                        {\"coloraxis\": {\"colorbar\": {\"title\": {\"text\": \"color\"}}, \"colorscale\": [[0.0, \"#0d0887\"], [0.1111111111111111, \"#46039f\"], [0.2222222222222222, \"#7201a8\"], [0.3333333333333333, \"#9c179e\"], [0.4444444444444444, \"#bd3786\"], [0.5555555555555556, \"#d8576b\"], [0.6666666666666666, \"#ed7953\"], [0.7777777777777778, \"#fb9f3a\"], [0.8888888888888888, \"#fdca26\"], [1.0, \"#f0f921\"]]}, \"legend\": {\"tracegroupgap\": 0}, \"margin\": {\"t\": 60}, \"template\": {\"data\": {\"bar\": [{\"error_x\": {\"color\": \"#2a3f5f\"}, \"error_y\": {\"color\": \"#2a3f5f\"}, \"marker\": {\"line\": {\"color\": \"#E5ECF6\", \"width\": 0.5}}, \"type\": \"bar\"}], \"barpolar\": [{\"marker\": {\"line\": {\"color\": \"#E5ECF6\", \"width\": 0.5}}, \"type\": \"barpolar\"}], \"carpet\": [{\"aaxis\": {\"endlinecolor\": \"#2a3f5f\", \"gridcolor\": \"white\", \"linecolor\": \"white\", \"minorgridcolor\": \"white\", \"startlinecolor\": \"#2a3f5f\"}, \"baxis\": {\"endlinecolor\": \"#2a3f5f\", \"gridcolor\": \"white\", \"linecolor\": \"white\", \"minorgridcolor\": \"white\", \"startlinecolor\": \"#2a3f5f\"}, \"type\": \"carpet\"}], \"choropleth\": [{\"colorbar\": {\"outlinewidth\": 0, \"ticks\": \"\"}, \"type\": \"choropleth\"}], \"contour\": [{\"colorbar\": {\"outlinewidth\": 0, \"ticks\": \"\"}, \"colorscale\": [[0.0, \"#0d0887\"], [0.1111111111111111, \"#46039f\"], [0.2222222222222222, \"#7201a8\"], [0.3333333333333333, \"#9c179e\"], [0.4444444444444444, \"#bd3786\"], [0.5555555555555556, \"#d8576b\"], [0.6666666666666666, \"#ed7953\"], [0.7777777777777778, \"#fb9f3a\"], [0.8888888888888888, \"#fdca26\"], [1.0, \"#f0f921\"]], \"type\": \"contour\"}], \"contourcarpet\": [{\"colorbar\": {\"outlinewidth\": 0, \"ticks\": \"\"}, \"type\": \"contourcarpet\"}], \"heatmap\": [{\"colorbar\": {\"outlinewidth\": 0, \"ticks\": \"\"}, \"colorscale\": [[0.0, \"#0d0887\"], [0.1111111111111111, \"#46039f\"], [0.2222222222222222, \"#7201a8\"], [0.3333333333333333, \"#9c179e\"], [0.4444444444444444, \"#bd3786\"], [0.5555555555555556, \"#d8576b\"], [0.6666666666666666, \"#ed7953\"], [0.7777777777777778, \"#fb9f3a\"], [0.8888888888888888, \"#fdca26\"], [1.0, \"#f0f921\"]], \"type\": \"heatmap\"}], \"heatmapgl\": [{\"colorbar\": {\"outlinewidth\": 0, \"ticks\": \"\"}, \"colorscale\": [[0.0, \"#0d0887\"], [0.1111111111111111, \"#46039f\"], [0.2222222222222222, \"#7201a8\"], [0.3333333333333333, \"#9c179e\"], [0.4444444444444444, \"#bd3786\"], [0.5555555555555556, \"#d8576b\"], [0.6666666666666666, \"#ed7953\"], [0.7777777777777778, \"#fb9f3a\"], [0.8888888888888888, \"#fdca26\"], [1.0, \"#f0f921\"]], \"type\": \"heatmapgl\"}], \"histogram\": [{\"marker\": {\"colorbar\": {\"outlinewidth\": 0, \"ticks\": \"\"}}, \"type\": \"histogram\"}], \"histogram2d\": [{\"colorbar\": {\"outlinewidth\": 0, \"ticks\": \"\"}, \"colorscale\": [[0.0, \"#0d0887\"], [0.1111111111111111, \"#46039f\"], [0.2222222222222222, \"#7201a8\"], [0.3333333333333333, \"#9c179e\"], [0.4444444444444444, \"#bd3786\"], [0.5555555555555556, \"#d8576b\"], [0.6666666666666666, \"#ed7953\"], [0.7777777777777778, \"#fb9f3a\"], [0.8888888888888888, \"#fdca26\"], [1.0, \"#f0f921\"]], \"type\": \"histogram2d\"}], \"histogram2dcontour\": [{\"colorbar\": {\"outlinewidth\": 0, \"ticks\": \"\"}, \"colorscale\": [[0.0, \"#0d0887\"], [0.1111111111111111, \"#46039f\"], [0.2222222222222222, \"#7201a8\"], [0.3333333333333333, \"#9c179e\"], [0.4444444444444444, \"#bd3786\"], [0.5555555555555556, \"#d8576b\"], [0.6666666666666666, \"#ed7953\"], [0.7777777777777778, \"#fb9f3a\"], [0.8888888888888888, \"#fdca26\"], [1.0, \"#f0f921\"]], \"type\": \"histogram2dcontour\"}], \"mesh3d\": [{\"colorbar\": {\"outlinewidth\": 0, \"ticks\": \"\"}, \"type\": \"mesh3d\"}], \"parcoords\": [{\"line\": {\"colorbar\": {\"outlinewidth\": 0, \"ticks\": \"\"}}, \"type\": \"parcoords\"}], \"pie\": [{\"automargin\": true, \"type\": \"pie\"}], \"scatter\": [{\"marker\": {\"colorbar\": {\"outlinewidth\": 0, \"ticks\": \"\"}}, \"type\": \"scatter\"}], \"scatter3d\": [{\"line\": {\"colorbar\": {\"outlinewidth\": 0, \"ticks\": \"\"}}, \"marker\": {\"colorbar\": {\"outlinewidth\": 0, \"ticks\": \"\"}}, \"type\": \"scatter3d\"}], \"scattercarpet\": [{\"marker\": {\"colorbar\": {\"outlinewidth\": 0, \"ticks\": \"\"}}, \"type\": \"scattercarpet\"}], \"scattergeo\": [{\"marker\": {\"colorbar\": {\"outlinewidth\": 0, \"ticks\": \"\"}}, \"type\": \"scattergeo\"}], \"scattergl\": [{\"marker\": {\"colorbar\": {\"outlinewidth\": 0, \"ticks\": \"\"}}, \"type\": \"scattergl\"}], \"scattermapbox\": [{\"marker\": {\"colorbar\": {\"outlinewidth\": 0, \"ticks\": \"\"}}, \"type\": \"scattermapbox\"}], \"scatterpolar\": [{\"marker\": {\"colorbar\": {\"outlinewidth\": 0, \"ticks\": \"\"}}, \"type\": \"scatterpolar\"}], \"scatterpolargl\": [{\"marker\": {\"colorbar\": {\"outlinewidth\": 0, \"ticks\": \"\"}}, \"type\": \"scatterpolargl\"}], \"scatterternary\": [{\"marker\": {\"colorbar\": {\"outlinewidth\": 0, \"ticks\": \"\"}}, \"type\": \"scatterternary\"}], \"surface\": [{\"colorbar\": {\"outlinewidth\": 0, \"ticks\": \"\"}, \"colorscale\": [[0.0, \"#0d0887\"], [0.1111111111111111, \"#46039f\"], [0.2222222222222222, \"#7201a8\"], [0.3333333333333333, \"#9c179e\"], [0.4444444444444444, \"#bd3786\"], [0.5555555555555556, \"#d8576b\"], [0.6666666666666666, \"#ed7953\"], [0.7777777777777778, \"#fb9f3a\"], [0.8888888888888888, \"#fdca26\"], [1.0, \"#f0f921\"]], \"type\": \"surface\"}], \"table\": [{\"cells\": {\"fill\": {\"color\": \"#EBF0F8\"}, \"line\": {\"color\": \"white\"}}, \"header\": {\"fill\": {\"color\": \"#C8D4E3\"}, \"line\": {\"color\": \"white\"}}, \"type\": \"table\"}]}, \"layout\": {\"annotationdefaults\": {\"arrowcolor\": \"#2a3f5f\", \"arrowhead\": 0, \"arrowwidth\": 1}, \"coloraxis\": {\"colorbar\": {\"outlinewidth\": 0, \"ticks\": \"\"}}, \"colorscale\": {\"diverging\": [[0, \"#8e0152\"], [0.1, \"#c51b7d\"], [0.2, \"#de77ae\"], [0.3, \"#f1b6da\"], [0.4, \"#fde0ef\"], [0.5, \"#f7f7f7\"], [0.6, \"#e6f5d0\"], [0.7, \"#b8e186\"], [0.8, \"#7fbc41\"], [0.9, \"#4d9221\"], [1, \"#276419\"]], \"sequential\": [[0.0, \"#0d0887\"], [0.1111111111111111, \"#46039f\"], [0.2222222222222222, \"#7201a8\"], [0.3333333333333333, \"#9c179e\"], [0.4444444444444444, \"#bd3786\"], [0.5555555555555556, \"#d8576b\"], [0.6666666666666666, \"#ed7953\"], [0.7777777777777778, \"#fb9f3a\"], [0.8888888888888888, \"#fdca26\"], [1.0, \"#f0f921\"]], \"sequentialminus\": [[0.0, \"#0d0887\"], [0.1111111111111111, \"#46039f\"], [0.2222222222222222, \"#7201a8\"], [0.3333333333333333, \"#9c179e\"], [0.4444444444444444, \"#bd3786\"], [0.5555555555555556, \"#d8576b\"], [0.6666666666666666, \"#ed7953\"], [0.7777777777777778, \"#fb9f3a\"], [0.8888888888888888, \"#fdca26\"], [1.0, \"#f0f921\"]]}, \"colorway\": [\"#636efa\", \"#EF553B\", \"#00cc96\", \"#ab63fa\", \"#FFA15A\", \"#19d3f3\", \"#FF6692\", \"#B6E880\", \"#FF97FF\", \"#FECB52\"], \"font\": {\"color\": \"#2a3f5f\"}, \"geo\": {\"bgcolor\": \"white\", \"lakecolor\": \"white\", \"landcolor\": \"#E5ECF6\", \"showlakes\": true, \"showland\": true, \"subunitcolor\": \"white\"}, \"hoverlabel\": {\"align\": \"left\"}, \"hovermode\": \"closest\", \"mapbox\": {\"style\": \"light\"}, \"paper_bgcolor\": \"white\", \"plot_bgcolor\": \"#E5ECF6\", \"polar\": {\"angularaxis\": {\"gridcolor\": \"white\", \"linecolor\": \"white\", \"ticks\": \"\"}, \"bgcolor\": \"#E5ECF6\", \"radialaxis\": {\"gridcolor\": \"white\", \"linecolor\": \"white\", \"ticks\": \"\"}}, \"scene\": {\"xaxis\": {\"backgroundcolor\": \"#E5ECF6\", \"gridcolor\": \"white\", \"gridwidth\": 2, \"linecolor\": \"white\", \"showbackground\": true, \"ticks\": \"\", \"zerolinecolor\": \"white\"}, \"yaxis\": {\"backgroundcolor\": \"#E5ECF6\", \"gridcolor\": \"white\", \"gridwidth\": 2, \"linecolor\": \"white\", \"showbackground\": true, \"ticks\": \"\", \"zerolinecolor\": \"white\"}, \"zaxis\": {\"backgroundcolor\": \"#E5ECF6\", \"gridcolor\": \"white\", \"gridwidth\": 2, \"linecolor\": \"white\", \"showbackground\": true, \"ticks\": \"\", \"zerolinecolor\": \"white\"}}, \"shapedefaults\": {\"line\": {\"color\": \"#2a3f5f\"}}, \"ternary\": {\"aaxis\": {\"gridcolor\": \"white\", \"linecolor\": \"white\", \"ticks\": \"\"}, \"baxis\": {\"gridcolor\": \"white\", \"linecolor\": \"white\", \"ticks\": \"\"}, \"bgcolor\": \"#E5ECF6\", \"caxis\": {\"gridcolor\": \"white\", \"linecolor\": \"white\", \"ticks\": \"\"}}, \"title\": {\"x\": 0.05}, \"xaxis\": {\"automargin\": true, \"gridcolor\": \"white\", \"linecolor\": \"white\", \"ticks\": \"\", \"title\": {\"standoff\": 15}, \"zerolinecolor\": \"white\", \"zerolinewidth\": 2}, \"yaxis\": {\"automargin\": true, \"gridcolor\": \"white\", \"linecolor\": \"white\", \"ticks\": \"\", \"title\": {\"standoff\": 15}, \"zerolinecolor\": \"white\", \"zerolinewidth\": 2}}}, \"xaxis\": {\"anchor\": \"y\", \"domain\": [0.0, 1.0], \"title\": {\"text\": \"x\"}}, \"yaxis\": {\"anchor\": \"x\", \"domain\": [0.0, 1.0], \"title\": {\"text\": \"y\"}}},\n",
       "                        {\"responsive\": true}\n",
       "                    ).then(function(){\n",
       "                            \n",
       "var gd = document.getElementById('1a953f06-55ab-454d-bcf9-296b3820744f');\n",
       "var x = new MutationObserver(function (mutations, observer) {{\n",
       "        var display = window.getComputedStyle(gd).display;\n",
       "        if (!display || display === 'none') {{\n",
       "            console.log([gd, 'removed!']);\n",
       "            Plotly.purge(gd);\n",
       "            observer.disconnect();\n",
       "        }}\n",
       "}});\n",
       "\n",
       "// Listen for the removal of the full notebook cells\n",
       "var notebookContainer = gd.closest('#notebook-container');\n",
       "if (notebookContainer) {{\n",
       "    x.observe(notebookContainer, {childList: true});\n",
       "}}\n",
       "\n",
       "// Listen for the clearing of the current output cell\n",
       "var outputEl = gd.closest('.output');\n",
       "if (outputEl) {{\n",
       "    x.observe(outputEl, {childList: true});\n",
       "}}\n",
       "\n",
       "                        })\n",
       "                };\n",
       "                });\n",
       "            </script>\n",
       "        </div>"
      ]
     },
     "metadata": {},
     "output_type": "display_data"
    }
   ],
   "source": [
    "# С помощью KMeans разбейте данные из тренировочного набора на 3 кластера, используйте все признаки из датафрейма X_train. \n",
    "# Параметр max_iter должен быть равен 100, random_state сделайте равным 42.\n",
    "\n",
    "# - Постройте еще раз диаграмму рассеяния на данных, полученных с помощью TSNE, \n",
    "# и раскрасьте точки из разных кластеров разными цветами.\n",
    "\n",
    "from sklearn.cluster import KMeans\n",
    "\n",
    "kmeans = KMeans(n_clusters=3, max_iter=100, random_state=42)\n",
    "\n",
    "labels_train = kmeans.fit_predict(X_train_scaled)\n",
    "\n",
    "plt.scatter(X_train_tsne[:, 0], X_train_tsne[:, 1], c=labels_train)\n",
    "\n",
    "plt.show()\n",
    "\n",
    "px.scatter(X_train_tsne, X_train_tsne[:, 0], X_train_tsne[:, 1], labels_train)"
   ]
  },
  {
   "cell_type": "code",
   "execution_count": 66,
   "metadata": {},
   "outputs": [
    {
     "name": "stdout",
     "output_type": "stream",
     "text": [
      "Средние значения price:\n",
      "Кластер 0: price    24.958115\n",
      "dtype: float64\n",
      "Кластер 1: price    16.165354\n",
      "dtype: float64\n",
      "Кластер 2: price    27.788372\n",
      "dtype: float64\n",
      "Средние значения CRIM:\n",
      "Кластер 0: 0.42166020942408367\n",
      "Кластер 1: 10.797028425196853\n",
      "Кластер 2: 0.07356558139534886\n"
     ]
    }
   ],
   "source": [
    "# Вычислите средние значения price и CRIM в разных кластерах\n",
    "print('Средние значения price:')\n",
    "print('Кластер 0: {}'.format(y_train[labels_train == 0].mean()))\n",
    "print('Кластер 1: {}'.format(y_train[labels_train == 1].mean()))\n",
    "print('Кластер 2: {}'.format(y_train[labels_train == 2].mean()))\n",
    "print('Средние значения CRIM:')\n",
    "print('Кластер 0: {}'.format(X_train.loc[labels_train == 0, 'CRIM'].mean()))\n",
    "print('Кластер 1: {}'.format(X_train.loc[labels_train == 1, 'CRIM'].mean()))\n",
    "print('Кластер 2: {}'.format(X_train.loc[labels_train == 2, 'CRIM'].mean()))"
   ]
  },
  {
   "cell_type": "markdown",
   "metadata": {},
   "source": [
    "### Задание 3"
   ]
  },
  {
   "cell_type": "markdown",
   "metadata": {},
   "source": [
    "- Примените модель KMeans, построенную в предыдущем задании, к данным из тестового набора.\n",
    "- Вычислите средние значения price и CRIM в разных кластерах на тестовых данных.\n"
   ]
  },
  {
   "cell_type": "code",
   "execution_count": 67,
   "metadata": {},
   "outputs": [],
   "source": [
    "# Примените модель KMeans, построенную в предыдущем задании, к данным из тестового набора.\n",
    "labels_test = kmeans.predict(X_test_scaled)"
   ]
  },
  {
   "cell_type": "code",
   "execution_count": 68,
   "metadata": {},
   "outputs": [
    {
     "name": "stdout",
     "output_type": "stream",
     "text": [
      "Средние значения price:\n",
      "Кластер 0: price    21.860784\n",
      "dtype: float64\n",
      "Кластер 1: price    16.437143\n",
      "dtype: float64\n",
      "Кластер 2: price    31.35\n",
      "dtype: float64\n",
      "Средние значения CRIM:\n",
      "Кластер 0: 0.26607882352941176\n",
      "Кластер 1: 10.165531142857143\n",
      "Кластер 2: 0.062060000000000004\n"
     ]
    }
   ],
   "source": [
    "# Вычислите средние значения price и CRIM в разных кластерах на тестовых данных.\n",
    "print('Средние значения price:')\n",
    "print('Кластер 0: {}'.format(y_test[labels_test == 0].mean()))\n",
    "print('Кластер 1: {}'.format(y_test[labels_test == 1].mean()))\n",
    "print('Кластер 2: {}'.format(y_test[labels_test == 2].mean()))\n",
    "print('Средние значения CRIM:')\n",
    "print('Кластер 0: {}'.format(X_test.loc[labels_test == 0, 'CRIM'].mean()))\n",
    "print('Кластер 1: {}'.format(X_test.loc[labels_test == 1, 'CRIM'].mean()))\n",
    "print('Кластер 2: {}'.format(X_test.loc[labels_test == 2, 'CRIM'].mean()))"
   ]
  }
 ],
 "metadata": {
  "kernelspec": {
   "display_name": "Python 3",
   "language": "python",
   "name": "python3"
  },
  "language_info": {
   "codemirror_mode": {
    "name": "ipython",
    "version": 3
   },
   "file_extension": ".py",
   "mimetype": "text/x-python",
   "name": "python",
   "nbconvert_exporter": "python",
   "pygments_lexer": "ipython3",
   "version": "3.7.4"
  }
 },
 "nbformat": 4,
 "nbformat_minor": 2
}
